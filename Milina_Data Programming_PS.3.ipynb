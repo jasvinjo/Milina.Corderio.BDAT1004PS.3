{
 "cells": [
  {
   "cell_type": "markdown",
   "id": "3e8ff5f3-6c57-450c-bf99-29e6c695bc93",
   "metadata": {},
   "source": [
    "##### QUESTION 1 ####"
   ]
  },
  {
   "cell_type": "code",
   "execution_count": null,
   "id": "38ee6316-fd92-49af-a7b0-62c94939cf19",
   "metadata": {},
   "outputs": [],
   "source": [
    "\n",
    "## Step 1: Import the necessary libraries\n",
    "\n",
    "import pandas as pd\n"
   ]
  },
  {
   "cell_type": "code",
   "execution_count": null,
   "id": "f86c6b6e-d3ca-4b58-bb44-f1a919d4cdb7",
   "metadata": {},
   "outputs": [],
   "source": [
    "## Step 2: Import the dataset from the provided address - (https://raw.githubusercontent.com/justmarkham/DAT8/master/data/u.user)\n",
    "\n",
    "url = \"https://raw.githubusercontent.com/justmarkham/DAT8/master/data/u.user\"\n",
    "users = pd.read_csv(url, sep='|')\n",
    "\n"
   ]
  },
  {
   "cell_type": "code",
   "execution_count": null,
   "id": "e44194c1-1d5e-4016-a720-d25fe17b9a35",
   "metadata": {},
   "outputs": [],
   "source": [
    "## Step 3: Assign it to a variable called users\n",
    "import pandas as pd\n",
    "from io import StringIO\n",
    "\n",
    "data = \"\"\"\n",
    "user_id|age|gender|occupation|zip_code\n",
    "1|24|M|technician|85711\n",
    "2|53|F|other|94043\n",
    "3|23|M|writer|32067\n",
    "4|24|M|technician|43537\n",
    "5|33|F|other|15213\n",
    "6|42|M|executive|98101\n",
    "7|57|M|administrator|91344\n",
    "8|36|M|administrator|05201\n",
    "9|29|M|student|01002\n",
    "10|53|M|lawyer|90703\n",
    "11|39|F|other|30329\n",
    "12|28|F|other|06405\n",
    "13|47|M|educator|29206\n",
    "14|45|M|scientist|55106\n",
    "15|49|F|educator|97301\n",
    "16|21|M|entertainment|10309\n",
    "17|30|M|programmer|06355\n",
    "18|35|F|other|37212\n",
    "19|40|M|librarian|02138\n",
    "20|42|F|homemaker|95660\n",
    "... (include the rest of your data here)\n",
    "\"\"\"\n",
    "\n",
    "\n",
    "users = pd.read_csv(StringIO(data), delimiter='|')\n",
    "\n",
    "print(users)\n"
   ]
  },
  {
   "cell_type": "code",
   "execution_count": 150,
   "id": "2d32e943-6112-42b6-81d4-ab261a20c262",
   "metadata": {},
   "outputs": [
    {
     "name": "stdout",
     "output_type": "stream",
     "text": [
      "occupation\n",
      "administrator    46.5\n",
      "educator         48.0\n",
      "entertainment    21.0\n",
      "executive        42.0\n",
      "homemaker        42.0\n",
      "lawyer           53.0\n",
      "librarian        40.0\n",
      "other            37.6\n",
      "programmer       30.0\n",
      "scientist        45.0\n",
      "student          29.0\n",
      "technician       24.0\n",
      "writer           23.0\n",
      "Name: age, dtype: float64\n"
     ]
    }
   ],
   "source": [
    "## Step 4: Discover the mean age per occupation\n",
    "mean_age_per_occupation = users.groupby('occupation')['age'].mean()\n",
    "print(mean_age_per_occupation)\n"
   ]
  },
  {
   "cell_type": "code",
   "execution_count": 151,
   "id": "6c26e78a-6e84-4423-9fc8-af6cc2319056",
   "metadata": {},
   "outputs": [
    {
     "name": "stdout",
     "output_type": "stream",
     "text": [
      "occupation\n",
      "administrator    1.0\n",
      "entertainment    1.0\n",
      "executive        1.0\n",
      "lawyer           1.0\n",
      "librarian        1.0\n",
      "programmer       1.0\n",
      "scientist        1.0\n",
      "student          1.0\n",
      "technician       1.0\n",
      "writer           1.0\n",
      "educator         0.5\n",
      "homemaker        NaN\n",
      "other            NaN\n",
      "dtype: float64\n"
     ]
    }
   ],
   "source": [
    "## Step 5: Discover the Male ratio per occupation and sort it from the most to the least\n",
    "\n",
    "\n",
    "#  calculate the male ratio per occupation\n",
    "male_ratio_per_occupation = users[users['gender'] == 'M'].groupby('occupation').size() / users.groupby('occupation').size()\n",
    "\n",
    "\n",
    "male_ratio_per_occupation_sorted = male_ratio_per_occupation.sort_values(ascending=False)\n",
    "print(male_ratio_per_occupation_sorted)\n"
   ]
  },
  {
   "cell_type": "code",
   "execution_count": 152,
   "id": "37555a99-6894-4e48-b1ef-25e3d8572b18",
   "metadata": {},
   "outputs": [
    {
     "name": "stdout",
     "output_type": "stream",
     "text": [
      "                min   max\n",
      "occupation               \n",
      "administrator  36.0  57.0\n",
      "educator       47.0  49.0\n",
      "entertainment  21.0  21.0\n",
      "executive      42.0  42.0\n",
      "homemaker      42.0  42.0\n",
      "lawyer         53.0  53.0\n",
      "librarian      40.0  40.0\n",
      "other          28.0  53.0\n",
      "programmer     30.0  30.0\n",
      "scientist      45.0  45.0\n",
      "student        29.0  29.0\n",
      "technician     24.0  24.0\n",
      "writer         23.0  23.0\n"
     ]
    }
   ],
   "source": [
    "## Step 6: For each occupation, calculate the minimum and maximum ages\n",
    "min_max_age_per_occupation = users.groupby('occupation')['age'].agg(['min', 'max'])\n",
    "print(min_max_age_per_occupation)\n"
   ]
  },
  {
   "cell_type": "code",
   "execution_count": 153,
   "id": "6b6c90a7-e386-4c74-8663-4d1b9f28818a",
   "metadata": {},
   "outputs": [
    {
     "name": "stdout",
     "output_type": "stream",
     "text": [
      "occupation     gender\n",
      "administrator  M         46.5\n",
      "educator       F         49.0\n",
      "               M         47.0\n",
      "entertainment  M         21.0\n",
      "executive      M         42.0\n",
      "homemaker      F         42.0\n",
      "lawyer         M         53.0\n",
      "librarian      M         40.0\n",
      "other          F         37.6\n",
      "programmer     M         30.0\n",
      "scientist      M         45.0\n",
      "student        M         29.0\n",
      "technician     M         24.0\n",
      "writer         M         23.0\n",
      "Name: age, dtype: float64\n"
     ]
    }
   ],
   "source": [
    "## Step 7: For each combination of occupation and sex, calculate the mean age\n",
    "mean_age_per_occupation_sex = users.groupby(['occupation', 'gender'])['age'].mean()\n",
    "print(mean_age_per_occupation_sex)\n"
   ]
  },
  {
   "cell_type": "code",
   "execution_count": 154,
   "id": "21d1b792-c874-46cb-8662-4c15e33308ea",
   "metadata": {},
   "outputs": [
    {
     "name": "stdout",
     "output_type": "stream",
     "text": [
      "gender             F      M\n",
      "occupation                 \n",
      "administrator    0.0  100.0\n",
      "educator        50.0   50.0\n",
      "entertainment    0.0  100.0\n",
      "executive        0.0  100.0\n",
      "homemaker      100.0    0.0\n",
      "lawyer           0.0  100.0\n",
      "librarian        0.0  100.0\n",
      "other          100.0    0.0\n",
      "programmer       0.0  100.0\n",
      "scientist        0.0  100.0\n",
      "student          0.0  100.0\n",
      "technician       0.0  100.0\n",
      "writer           0.0  100.0\n"
     ]
    }
   ],
   "source": [
    "## Step 8: For each occupation, present the percentage of women and men\n",
    "# Count the number of men and women per occupation\n",
    "gender_count_per_occupation = users.groupby(['occupation', 'gender']).size().unstack().fillna(0)\n",
    "\n",
    "# Calculate the total count per occupation\n",
    "total_count_per_occupation = gender_count_per_occupation.sum(axis=1)\n",
    "\n",
    "# Calculate the percentage\n",
    "gender_percentage_per_occupation = gender_count_per_occupation.div(total_count_per_occupation, axis=0) * 100\n",
    "print(gender_percentage_per_occupation)\n"
   ]
  },
  {
   "cell_type": "markdown",
   "id": "d902aa5c-f9e2-4df2-9a5e-807dc8e3d592",
   "metadata": {},
   "source": [
    "##### QUESTION 2 ####"
   ]
  },
  {
   "cell_type": "code",
   "execution_count": 156,
   "id": "46e7b982-c6cc-4006-8403-2a9f23901581",
   "metadata": {},
   "outputs": [],
   "source": [
    "\n",
    "\n",
    "## Step 1. Import the necessary libraries \n",
    "import pandas as pd"
   ]
  },
  {
   "cell_type": "code",
   "execution_count": 157,
   "id": "08858bb3-bda6-40b1-90ff-03cc39c9839c",
   "metadata": {},
   "outputs": [],
   "source": [
    "## Step 2. Import the dataset - https://raw.githubusercontent.com/guipsamora/pandas_exercises/master/02_Filtering_%26_Sorting/Euro12/Euro_2012_stats_TEAM.csv\n",
    "##Step 3. Assign it to a variable called euro12\n",
    "url = \"https://raw.githubusercontent.com/guipsamora/pandas_exercises/master/02_Filtering_%26_Sorting/Euro12/Euro_2012_stats_TEAM.csv\"  # Replace with your dataset URL or path\n",
    "euro12 = pd.read_csv(url)"
   ]
  },
  {
   "cell_type": "code",
   "execution_count": 158,
   "id": "116e58bd-1fba-4817-bd8f-8683632125c8",
   "metadata": {},
   "outputs": [
    {
     "name": "stdout",
     "output_type": "stream",
     "text": [
      "0      4\n",
      "1      4\n",
      "2      4\n",
      "3      5\n",
      "4      3\n",
      "5     10\n",
      "6      5\n",
      "7      6\n",
      "8      2\n",
      "9      2\n",
      "10     6\n",
      "11     1\n",
      "12     5\n",
      "13    12\n",
      "14     5\n",
      "15     2\n",
      "Name: Goals, dtype: int64\n"
     ]
    }
   ],
   "source": [
    "## Step 4. Select only the Goal column\n",
    "goals = euro12['Goals']\n",
    "print(goals)"
   ]
  },
  {
   "cell_type": "code",
   "execution_count": 159,
   "id": "263b7090-9086-4a29-a8b3-dffe0515f358",
   "metadata": {},
   "outputs": [
    {
     "name": "stdout",
     "output_type": "stream",
     "text": [
      "Number of teams: 16\n"
     ]
    }
   ],
   "source": [
    "## Step 5. How many team participated in the Euro2012?\n",
    "num_teams = euro12.shape[0]\n",
    "print(\"Number of teams:\", num_teams)"
   ]
  },
  {
   "cell_type": "code",
   "execution_count": 160,
   "id": "c44fab6d-98d3-426f-9a09-ac6ad50fcc62",
   "metadata": {},
   "outputs": [
    {
     "name": "stdout",
     "output_type": "stream",
     "text": [
      "Number of teams: 16\n"
     ]
    }
   ],
   "source": [
    "## Step 6. What is the number of columns in the dataset?\n",
    "num_teams = euro12.shape[0]\n",
    "print(\"Number of teams:\", num_teams)"
   ]
  },
  {
   "cell_type": "code",
   "execution_count": 161,
   "id": "cd3ee1fc-840a-4714-b256-efbf386487dc",
   "metadata": {},
   "outputs": [
    {
     "name": "stdout",
     "output_type": "stream",
     "text": [
      "             Team  Yellow Cards  Red Cards\n",
      "0         Croatia             9          0\n",
      "1  Czech Republic             7          0\n",
      "2         Denmark             4          0\n",
      "3         England             5          0\n",
      "4          France             6          0\n"
     ]
    }
   ],
   "source": [
    "## Step 7. View only the columns Team, Yellow Cards and Red Cards and assign them to a dataframe called discipline\n",
    "discipline = euro12[['Team', 'Yellow Cards', 'Red Cards']]\n",
    "print(discipline.head())"
   ]
  },
  {
   "cell_type": "code",
   "execution_count": 162,
   "id": "ea35b2b8-9c31-4477-aa26-f1ed55775545",
   "metadata": {},
   "outputs": [
    {
     "name": "stdout",
     "output_type": "stream",
     "text": [
      "                   Team  Yellow Cards  Red Cards\n",
      "6                Greece             9          1\n",
      "9                Poland             7          1\n",
      "11  Republic of Ireland             6          1\n",
      "7                 Italy            16          0\n",
      "10             Portugal            12          0\n",
      "13                Spain            11          0\n",
      "0               Croatia             9          0\n",
      "1        Czech Republic             7          0\n",
      "14               Sweden             7          0\n",
      "4                France             6          0\n",
      "12               Russia             6          0\n",
      "3               England             5          0\n",
      "8           Netherlands             5          0\n",
      "15              Ukraine             5          0\n",
      "2               Denmark             4          0\n",
      "5               Germany             4          0\n"
     ]
    }
   ],
   "source": [
    "## Step 8. Sort the teams by Red Cards, then to Yellow Cards\n",
    "discipline_sorted = discipline.sort_values(by=['Red Cards', 'Yellow Cards'], ascending=[False, False])\n",
    "print(discipline_sorted)"
   ]
  },
  {
   "cell_type": "code",
   "execution_count": 163,
   "id": "586f9604-5599-4784-9ecf-681356517a5e",
   "metadata": {},
   "outputs": [
    {
     "name": "stdout",
     "output_type": "stream",
     "text": [
      "Mean Yellow Cards: 7.4375\n"
     ]
    }
   ],
   "source": [
    "## Step 9. Calculate the mean Yellow Cards given per Team\n",
    "mean_yellow_cards = euro12['Yellow Cards'].mean()\n",
    "print(\"Mean Yellow Cards:\", mean_yellow_cards)"
   ]
  },
  {
   "cell_type": "code",
   "execution_count": 164,
   "id": "3ea68940-9168-429d-8478-3f562d874872",
   "metadata": {},
   "outputs": [
    {
     "name": "stdout",
     "output_type": "stream",
     "text": [
      "       Team  Goals  Shots on target  Shots off target Shooting Accuracy  \\\n",
      "5   Germany     10               32                32             47.8%   \n",
      "13    Spain     12               42                33             55.9%   \n",
      "\n",
      "   % Goals-to-shots  Total shots (inc. Blocked)  Hit Woodwork  Penalty goals  \\\n",
      "5             15.6%                          80             2              1   \n",
      "13            16.0%                         100             0              1   \n",
      "\n",
      "    Penalties not scored  ...  Saves made  Saves-to-shots ratio  Fouls Won  \\\n",
      "5                      0  ...          10                 62.6%         63   \n",
      "13                     0  ...          15                 93.8%        102   \n",
      "\n",
      "   Fouls Conceded  Offsides  Yellow Cards  Red Cards  Subs on  Subs off  \\\n",
      "5              49        12             4          0       15        15   \n",
      "13             83        19            11          0       17        17   \n",
      "\n",
      "    Players Used  \n",
      "5             17  \n",
      "13            18  \n",
      "\n",
      "[2 rows x 35 columns]\n"
     ]
    }
   ],
   "source": [
    "## Step 10. Filter teams that scored more than 6 goalsStep G\n",
    "teams_high_goals = euro12[euro12['Goals'] > 6]\n",
    "print(teams_high_goals)"
   ]
  },
  {
   "cell_type": "code",
   "execution_count": 165,
   "id": "6d9c0cb1-91c3-4725-9da8-9e2d2b7654bd",
   "metadata": {},
   "outputs": [
    {
     "name": "stdout",
     "output_type": "stream",
     "text": [
      "      Team  Goals  Shots on target  Shots off target Shooting Accuracy  \\\n",
      "5  Germany     10               32                32             47.8%   \n",
      "6   Greece      5                8                18             30.7%   \n",
      "\n",
      "  % Goals-to-shots  Total shots (inc. Blocked)  Hit Woodwork  Penalty goals  \\\n",
      "5            15.6%                          80             2              1   \n",
      "6            19.2%                          32             1              1   \n",
      "\n",
      "   Penalties not scored  ...  Saves made  Saves-to-shots ratio  Fouls Won  \\\n",
      "5                     0  ...          10                 62.6%         63   \n",
      "6                     1  ...          13                 65.1%         67   \n",
      "\n",
      "  Fouls Conceded  Offsides  Yellow Cards  Red Cards  Subs on  Subs off  \\\n",
      "5             49        12             4          0       15        15   \n",
      "6             48        12             9          1       12        12   \n",
      "\n",
      "   Players Used  \n",
      "5            17  \n",
      "6            20  \n",
      "\n",
      "[2 rows x 35 columns]\n"
     ]
    }
   ],
   "source": [
    "## 11. Select the teams that start with G\n",
    "teams_starting_with_g = euro12[euro12['Team'].str.startswith('G')]\n",
    "print(teams_starting_with_g)"
   ]
  },
  {
   "cell_type": "code",
   "execution_count": 166,
   "id": "75bc5a2c-c5e5-448c-b930-0c199459209d",
   "metadata": {},
   "outputs": [
    {
     "name": "stdout",
     "output_type": "stream",
     "text": [
      "                   Team  Goals  Shots on target  Shots off target  \\\n",
      "0               Croatia      4               13                12   \n",
      "1        Czech Republic      4               13                18   \n",
      "2               Denmark      4               10                10   \n",
      "3               England      5               11                18   \n",
      "4                France      3               22                24   \n",
      "5               Germany     10               32                32   \n",
      "6                Greece      5                8                18   \n",
      "7                 Italy      6               34                45   \n",
      "8           Netherlands      2               12                36   \n",
      "9                Poland      2               15                23   \n",
      "10             Portugal      6               22                42   \n",
      "11  Republic of Ireland      1                7                12   \n",
      "12               Russia      5                9                31   \n",
      "13                Spain     12               42                33   \n",
      "14               Sweden      5               17                19   \n",
      "15              Ukraine      2                7                26   \n",
      "\n",
      "   Shooting Accuracy % Goals-to-shots  Total shots (inc. Blocked)  \n",
      "0              51.9%            16.0%                          32  \n",
      "1              41.9%            12.9%                          39  \n",
      "2              50.0%            20.0%                          27  \n",
      "3              50.0%            17.2%                          40  \n",
      "4              37.9%             6.5%                          65  \n",
      "5              47.8%            15.6%                          80  \n",
      "6              30.7%            19.2%                          32  \n",
      "7              43.0%             7.5%                         110  \n",
      "8              25.0%             4.1%                          60  \n",
      "9              39.4%             5.2%                          48  \n",
      "10             34.3%             9.3%                          82  \n",
      "11             36.8%             5.2%                          28  \n",
      "12             22.5%            12.5%                          59  \n",
      "13             55.9%            16.0%                         100  \n",
      "14             47.2%            13.8%                          39  \n",
      "15             21.2%             6.0%                          38  \n"
     ]
    }
   ],
   "source": [
    "##Step 12. Select the first 7 columns\n",
    "first_7_columns = euro12.iloc[:, :7]\n",
    "print(first_7_columns)"
   ]
  },
  {
   "cell_type": "code",
   "execution_count": 167,
   "id": "ef665cb3-9532-40f6-a3fb-3fbcb961316f",
   "metadata": {},
   "outputs": [
    {
     "name": "stdout",
     "output_type": "stream",
     "text": [
      "                   Team  Goals  Shots on target  Shots off target  \\\n",
      "0               Croatia      4               13                12   \n",
      "1        Czech Republic      4               13                18   \n",
      "2               Denmark      4               10                10   \n",
      "3               England      5               11                18   \n",
      "4                France      3               22                24   \n",
      "5               Germany     10               32                32   \n",
      "6                Greece      5                8                18   \n",
      "7                 Italy      6               34                45   \n",
      "8           Netherlands      2               12                36   \n",
      "9                Poland      2               15                23   \n",
      "10             Portugal      6               22                42   \n",
      "11  Republic of Ireland      1                7                12   \n",
      "12               Russia      5                9                31   \n",
      "13                Spain     12               42                33   \n",
      "14               Sweden      5               17                19   \n",
      "15              Ukraine      2                7                26   \n",
      "\n",
      "   Shooting Accuracy % Goals-to-shots  Total shots (inc. Blocked)  \\\n",
      "0              51.9%            16.0%                          32   \n",
      "1              41.9%            12.9%                          39   \n",
      "2              50.0%            20.0%                          27   \n",
      "3              50.0%            17.2%                          40   \n",
      "4              37.9%             6.5%                          65   \n",
      "5              47.8%            15.6%                          80   \n",
      "6              30.7%            19.2%                          32   \n",
      "7              43.0%             7.5%                         110   \n",
      "8              25.0%             4.1%                          60   \n",
      "9              39.4%             5.2%                          48   \n",
      "10             34.3%             9.3%                          82   \n",
      "11             36.8%             5.2%                          28   \n",
      "12             22.5%            12.5%                          59   \n",
      "13             55.9%            16.0%                         100   \n",
      "14             47.2%            13.8%                          39   \n",
      "15             21.2%             6.0%                          38   \n",
      "\n",
      "    Hit Woodwork  Penalty goals  Penalties not scored  ...  Clean Sheets  \\\n",
      "0              0              0                     0  ...             0   \n",
      "1              0              0                     0  ...             1   \n",
      "2              1              0                     0  ...             1   \n",
      "3              0              0                     0  ...             2   \n",
      "4              1              0                     0  ...             1   \n",
      "5              2              1                     0  ...             1   \n",
      "6              1              1                     1  ...             1   \n",
      "7              2              0                     0  ...             2   \n",
      "8              2              0                     0  ...             0   \n",
      "9              0              0                     0  ...             0   \n",
      "10             6              0                     0  ...             2   \n",
      "11             0              0                     0  ...             0   \n",
      "12             2              0                     0  ...             0   \n",
      "13             0              1                     0  ...             5   \n",
      "14             3              0                     0  ...             1   \n",
      "15             0              0                     0  ...             0   \n",
      "\n",
      "    Blocks  Goals conceded Saves made  Saves-to-shots ratio  Fouls Won  \\\n",
      "0       10               3         13                 81.3%         41   \n",
      "1       10               6          9                 60.1%         53   \n",
      "2       10               5         10                 66.7%         25   \n",
      "3       29               3         22                 88.1%         43   \n",
      "4        7               5          6                 54.6%         36   \n",
      "5       11               6         10                 62.6%         63   \n",
      "6       23               7         13                 65.1%         67   \n",
      "7       18               7         20                 74.1%        101   \n",
      "8        9               5         12                 70.6%         35   \n",
      "9        8               3          6                 66.7%         48   \n",
      "10      11               4         10                 71.5%         73   \n",
      "11      23               9         17                 65.4%         43   \n",
      "12       8               3         10                 77.0%         34   \n",
      "13       8               1         15                 93.8%        102   \n",
      "14      12               5          8                 61.6%         35   \n",
      "15       4               4         13                 76.5%         48   \n",
      "\n",
      "    Fouls Conceded  Offsides  Yellow Cards  Red Cards  \n",
      "0               62         2             9          0  \n",
      "1               73         8             7          0  \n",
      "2               38         8             4          0  \n",
      "3               45         6             5          0  \n",
      "4               51         5             6          0  \n",
      "5               49        12             4          0  \n",
      "6               48        12             9          1  \n",
      "7               89        16            16          0  \n",
      "8               30         3             5          0  \n",
      "9               56         3             7          1  \n",
      "10              90        10            12          0  \n",
      "11              51        11             6          1  \n",
      "12              43         4             6          0  \n",
      "13              83        19            11          0  \n",
      "14              51         7             7          0  \n",
      "15              31         4             5          0  \n",
      "\n",
      "[16 rows x 32 columns]\n"
     ]
    }
   ],
   "source": [
    "##Step 13. Select all columns except the last 3\n",
    "all_except_last_3 = euro12.iloc[:, :-3]\n",
    "print(all_except_last_3)"
   ]
  },
  {
   "cell_type": "code",
   "execution_count": 168,
   "id": "b9b486be-2d64-4917-9453-7105167ba273",
   "metadata": {},
   "outputs": [
    {
     "name": "stdout",
     "output_type": "stream",
     "text": [
      "       Team Shooting Accuracy\n",
      "3   England             50.0%\n",
      "7     Italy             43.0%\n",
      "12   Russia             22.5%\n"
     ]
    }
   ],
   "source": [
    "##Step 14. Present only the Shooting Accuracy from England, Italy and Russia\n",
    "\n",
    "shooting_accuracy = euro12[euro12['Team'].isin(['England', 'Italy', 'Russia'])][['Team', 'Shooting Accuracy']]\n",
    "print(shooting_accuracy)"
   ]
  },
  {
   "cell_type": "markdown",
   "id": "c53b457f-fd8b-4d6c-995f-7b0372340137",
   "metadata": {},
   "source": [
    "##### QUESTION 3 ####"
   ]
  },
  {
   "cell_type": "code",
   "execution_count": 170,
   "id": "6fdf802f-5cda-4dbf-918a-bb338b076959",
   "metadata": {},
   "outputs": [],
   "source": [
    "\n",
    "\n",
    "##Step 1: Import the necessary libraries\n",
    "import pandas as pd  # For data manipulation\n",
    "import numpy as np  # For generating random numbers\n"
   ]
  },
  {
   "cell_type": "code",
   "execution_count": 171,
   "id": "790feeed-efd0-4b86-a474-de64c8001fbb",
   "metadata": {},
   "outputs": [],
   "source": [
    "##Step 2: Create 3 different Series, each of length 100\n",
    "# Series 1: Random integers between 1 and 4 (inclusive)\n",
    "series1 = pd.Series(np.random.randint(1, 5, size=100))\n",
    "\n",
    "# Series 2: Random integers between 1 and 3 (inclusive)\n",
    "series2 = pd.Series(np.random.randint(1, 4, size=100))\n",
    "\n",
    "# Series 3: Random integers between 10,000 and 30,000 (inclusive)\n",
    "series3 = pd.Series(np.random.randint(10000, 30001, size=100))\n"
   ]
  },
  {
   "cell_type": "code",
   "execution_count": 172,
   "id": "96a8e33e-b1d2-451f-84b9-952e2f39513c",
   "metadata": {},
   "outputs": [],
   "source": [
    "##Step 3: Create a DataFrame by joining the Series by column\n",
    "# Combine the three Series into a single DataFrame\n",
    "df = pd.concat([series1, series2, series3], axis=1)\n"
   ]
  },
  {
   "cell_type": "code",
   "execution_count": 173,
   "id": "90306e74-00ea-443a-9aa9-3561f23aee0c",
   "metadata": {},
   "outputs": [],
   "source": [
    "##Step 4: Change the name of the columns to bedrs, bathrs, price_sqr_meter\n",
    "# Rename the columns for clarity\n",
    "df.columns = ['bedrs', 'bathrs', 'price_sqr_meter']\n"
   ]
  },
  {
   "cell_type": "code",
   "execution_count": 174,
   "id": "64eb51da-343e-4e26-955c-b344a602b62a",
   "metadata": {},
   "outputs": [],
   "source": [
    "##Step 5: Create a one-column DataFrame with the values of the 3 Series and assign it to bigcolumn\n",
    "\n",
    "# Concatenate the three Series into a single column\n",
    "bigcolumn = pd.concat([series1, series2, series3], ignore_index=True)\n",
    "\n",
    "# Convert the resulting Series to a DataFrame\n",
    "bigcolumn = pd.DataFrame(bigcolumn, columns=['bigcolumn'])\n"
   ]
  },
  {
   "cell_type": "code",
   "execution_count": 175,
   "id": "05dc19a1-3761-4b35-9884-68b1d0df6a79",
   "metadata": {},
   "outputs": [
    {
     "name": "stdout",
     "output_type": "stream",
     "text": [
      "Max index: 299\n"
     ]
    }
   ],
   "source": [
    "##Step 6: Check if the index only goes until 99\n",
    "\n",
    "# Check the maximum index value to see if it only goes to 99\n",
    "print(\"Max index:\", bigcolumn.index.max())  # Expecting output: 299\n"
   ]
  },
  {
   "cell_type": "code",
   "execution_count": 176,
   "id": "cd05336b-5eda-4b72-95e5-fc262bdc6ff1",
   "metadata": {},
   "outputs": [
    {
     "data": {
      "text/html": [
       "<div>\n",
       "<style scoped>\n",
       "    .dataframe tbody tr th:only-of-type {\n",
       "        vertical-align: middle;\n",
       "    }\n",
       "\n",
       "    .dataframe tbody tr th {\n",
       "        vertical-align: top;\n",
       "    }\n",
       "\n",
       "    .dataframe thead th {\n",
       "        text-align: right;\n",
       "    }\n",
       "</style>\n",
       "<table border=\"1\" class=\"dataframe\">\n",
       "  <thead>\n",
       "    <tr style=\"text-align: right;\">\n",
       "      <th></th>\n",
       "      <th>bigcolumn</th>\n",
       "    </tr>\n",
       "  </thead>\n",
       "  <tbody>\n",
       "    <tr>\n",
       "      <th>290</th>\n",
       "      <td>23942</td>\n",
       "    </tr>\n",
       "    <tr>\n",
       "      <th>291</th>\n",
       "      <td>11699</td>\n",
       "    </tr>\n",
       "    <tr>\n",
       "      <th>292</th>\n",
       "      <td>23360</td>\n",
       "    </tr>\n",
       "    <tr>\n",
       "      <th>293</th>\n",
       "      <td>26303</td>\n",
       "    </tr>\n",
       "    <tr>\n",
       "      <th>294</th>\n",
       "      <td>11410</td>\n",
       "    </tr>\n",
       "    <tr>\n",
       "      <th>295</th>\n",
       "      <td>29298</td>\n",
       "    </tr>\n",
       "    <tr>\n",
       "      <th>296</th>\n",
       "      <td>14716</td>\n",
       "    </tr>\n",
       "    <tr>\n",
       "      <th>297</th>\n",
       "      <td>26759</td>\n",
       "    </tr>\n",
       "    <tr>\n",
       "      <th>298</th>\n",
       "      <td>16710</td>\n",
       "    </tr>\n",
       "    <tr>\n",
       "      <th>299</th>\n",
       "      <td>11859</td>\n",
       "    </tr>\n",
       "  </tbody>\n",
       "</table>\n",
       "</div>"
      ],
      "text/plain": [
       "     bigcolumn\n",
       "290      23942\n",
       "291      11699\n",
       "292      23360\n",
       "293      26303\n",
       "294      11410\n",
       "295      29298\n",
       "296      14716\n",
       "297      26759\n",
       "298      16710\n",
       "299      11859"
      ]
     },
     "execution_count": 176,
     "metadata": {},
     "output_type": "execute_result"
    }
   ],
   "source": [
    "##Step 7: Reindex the DataFrame so it goes from 0 to 299\n",
    "# Ensure the index runs from 0 to 299\n",
    "bigcolumn = bigcolumn.reindex(range(300))\n",
    "\n",
    "# Optionally, display the DataFrame to verify\n",
    "bigcolumn.head(10)  # Show the first 10 rows\n",
    "bigcolumn.tail(10)  # Show the last 10 rows\n"
   ]
  },
  {
   "cell_type": "markdown",
   "id": "d21d31fa-4fb1-413e-bdc5-48168091fe66",
   "metadata": {},
   "source": [
    "##### QUESTION 4 ####"
   ]
  },
  {
   "cell_type": "code",
   "execution_count": 178,
   "id": "5460cf3d-83a2-420c-8a4d-74d416c5ae28",
   "metadata": {},
   "outputs": [],
   "source": [
    "\n",
    "\n",
    "## Step 1: Import the necessary libraries\n",
    "\n",
    "import pandas as pd\n",
    "import numpy as np\n",
    "\n",
    "data_dict = {\n",
    "    'Yr': [1961, 1961, 1961],\n",
    "    'Mo': [1, 1, 1],\n",
    "    'Dy': [1, 2, 3],\n",
    "    'RPT': [15.04, 14.71, 18.50],\n",
    "    'VAL': [14.96, np.nan, 16.88],\n",
    "    'ROS': [13.17, 10.83, 12.33],\n",
    "    'KIL': [9.29, 6.50, 10.13],\n",
    "    'SHA': [np.nan, 12.62, 11.17],\n",
    "    'BIR': [9.87, 7.67, 6.17],\n",
    "    'DUB': [13.67, 11.50, 11.25],\n",
    "    'CLA': [10.25, 10.04, np.nan],\n",
    "    'MUL': [10.83, 9.79, 8.50],\n",
    "    'CLO': [12.58, 9.67, 7.67],\n",
    "    'BEL': [18.50, 17.54, 12.75],\n",
    "    'MAL': [15.04, 13.83, 12.71]\n",
    "}\n",
    "\n",
    "# Convert to DataFrame\n",
    "df = pd.DataFrame(data_dict)\n",
    "\n",
    "# Save to a text file\n",
    "df.to_csv('wind.txt', sep=' ', index=False)"
   ]
  },
  {
   "cell_type": "code",
   "execution_count": 179,
   "id": "77849af1-d9cd-45f9-abcb-907a979c248c",
   "metadata": {},
   "outputs": [
    {
     "name": "stdout",
     "output_type": "stream",
     "text": [
      "File loaded successfully.\n"
     ]
    }
   ],
   "source": [
    "### Step 2: Import/load the dataset from the  file\n",
    "\n",
    "import pandas as pd\n",
    "\n",
    "# Load the dataset\n",
    "try:\n",
    "    data = pd.read_csv('wind.txt', delim_whitespace=True)\n",
    "    print(\"File loaded successfully.\")\n",
    "except Exception as e:\n",
    "    print(f\"Error loading file: {e}\")"
   ]
  },
  {
   "cell_type": "code",
   "execution_count": 180,
   "id": "95108372-f010-4edc-852b-63b12457d201",
   "metadata": {},
   "outputs": [
    {
     "name": "stdout",
     "output_type": "stream",
     "text": [
      "     Yr  Mo  Dy    RPT    VAL    ROS    KIL    SHA    BIR    DUB    CLA  \\\n",
      "0  1961   1   1  15.04  14.96  13.17   9.29   9.87  13.67  10.25  10.83   \n",
      "1  1961   1   2  14.71  10.83   6.50  12.62   7.67  11.50  10.04   9.79   \n",
      "2  1961   1   3  18.50  16.88  12.33  10.13  11.17   6.17  11.25   8.50   \n",
      "\n",
      "     MUL    CLO    BEL  MAL  \n",
      "0  12.58  18.50  15.04  NaN  \n",
      "1   9.67  17.54  13.83  NaN  \n",
      "2   7.67  12.75  12.71  NaN  \n",
      "Index(['Yr', 'Mo', 'Dy', 'RPT', 'VAL', 'ROS', 'KIL', 'SHA', 'BIR', 'DUB',\n",
      "       'CLA', 'MUL', 'CLO', 'BEL', 'MAL'],\n",
      "      dtype='object')\n"
     ]
    }
   ],
   "source": [
    "## Assign column names\n",
    "print(data.head())\n",
    "print(data.columns)"
   ]
  },
  {
   "cell_type": "markdown",
   "id": "836686e9-e7bd-4c01-9be1-2b24b4a77ee8",
   "metadata": {},
   "source": [
    "#### QUESTION 4 ####"
   ]
  },
  {
   "cell_type": "code",
   "execution_count": 182,
   "id": "89308ad1-0ad1-46ee-8b9b-db22445cfb47",
   "metadata": {},
   "outputs": [],
   "source": [
    "\n",
    "\n",
    "##Step 1: Import the necessary libraries\n",
    "import pandas as pd\n",
    "import numpy as np\n",
    "\n"
   ]
  },
  {
   "cell_type": "code",
   "execution_count": 183,
   "id": "d0d28dbe-cfed-4d42-a261-230a0bd67697",
   "metadata": {},
   "outputs": [
    {
     "name": "stdout",
     "output_type": "stream",
     "text": [
      "Yr       int64\n",
      "Mo       int64\n",
      "Dy       int64\n",
      "RPT    float64\n",
      "VAL    float64\n",
      "ROS    float64\n",
      "KIL    float64\n",
      "SHA    float64\n",
      "BIR    float64\n",
      "DUB    float64\n",
      "CLA    float64\n",
      "MUL    float64\n",
      "CLO    float64\n",
      "BEL    float64\n",
      "MAL    float64\n",
      "dtype: object\n",
      "   Yr  Mo  Dy    RPT    VAL    ROS    KIL    SHA   BIR    DUB    CLA    MUL  \\\n",
      "0  61   1   1  15.04  14.96  13.17   9.29    NaN  9.87  13.67  10.25  10.83   \n",
      "1  61   1   2  14.71    NaN  10.83   6.50  12.62  7.67  11.50  10.04   9.79   \n",
      "2  61   1   3  18.50  16.88  12.33  10.13  11.17  6.17  11.25    NaN   8.50   \n",
      "3  61   1   4  10.58   6.63  11.75   4.58   4.54  2.88   8.63   1.79   5.83   \n",
      "4  61   1   5  13.33  13.25  11.42   6.17  10.71  8.21  11.92   6.54  10.92   \n",
      "\n",
      "     CLO    BEL    MAL  \n",
      "0  12.58  18.50  15.04  \n",
      "1   9.67  17.54  13.83  \n",
      "2   7.67  12.75  12.71  \n",
      "3   5.88   5.46  10.88  \n",
      "4  10.34  12.92  11.83  \n"
     ]
    }
   ],
   "source": [
    "##Step 2: Import the dataset from the attached file wind.txt\n",
    "import pandas as pd\n",
    "\n",
    "# Load the dataset\n",
    "file_path = \"C:\\\\Users\\\\HP\\\\Downloads\\\\wind.txt\"\n",
    "data = pd.read_csv(file_path, delim_whitespace=True)\n",
    "\n",
    "# Verify the data types\n",
    "print(data.dtypes)\n",
    "\n",
    "# Inspect the first few rows\n",
    "print(data.head())\n",
    "\n",
    "\n"
   ]
  },
  {
   "cell_type": "code",
   "execution_count": 184,
   "id": "bf00da8d-2f1a-4487-b48e-1fdf790922e0",
   "metadata": {},
   "outputs": [
    {
     "name": "stdout",
     "output_type": "stream",
     "text": [
      "Yr    0\n",
      "Mo    0\n",
      "Dy    0\n",
      "dtype: int64\n",
      "                Yr           Mo           Dy\n",
      "count  6574.000000  6574.000000  6574.000000\n",
      "mean     69.500304     6.523274    15.728628\n",
      "std       5.188131     3.448871     8.800335\n",
      "min      61.000000     1.000000     1.000000\n",
      "25%      65.000000     4.000000     8.000000\n",
      "50%      69.500000     7.000000    16.000000\n",
      "75%      74.000000    10.000000    23.000000\n",
      "max      78.000000    12.000000    31.000000\n"
     ]
    }
   ],
   "source": [
    "# Check for missing values\n",
    "print(data[['Yr', 'Mo', 'Dy']].isna().sum())\n",
    "\n",
    "# Check for any unexpected values\n",
    "print(data[['Yr', 'Mo', 'Dy']].describe())\n"
   ]
  },
  {
   "cell_type": "code",
   "execution_count": 185,
   "id": "17400600-6ea5-44ae-9966-4f1d459a7c08",
   "metadata": {},
   "outputs": [
    {
     "name": "stdout",
     "output_type": "stream",
     "text": [
      "              RPT    VAL    ROS    KIL    SHA   BIR    DUB    CLA    MUL  \\\n",
      "Date                                                                       \n",
      "1961-01-01  15.04  14.96  13.17   9.29    NaN  9.87  13.67  10.25  10.83   \n",
      "1961-01-02  14.71    NaN  10.83   6.50  12.62  7.67  11.50  10.04   9.79   \n",
      "1961-01-03  18.50  16.88  12.33  10.13  11.17  6.17  11.25    NaN   8.50   \n",
      "1961-01-04  10.58   6.63  11.75   4.58   4.54  2.88   8.63   1.79   5.83   \n",
      "1961-01-05  13.33  13.25  11.42   6.17  10.71  8.21  11.92   6.54  10.92   \n",
      "\n",
      "              CLO    BEL    MAL  \n",
      "Date                             \n",
      "1961-01-01  12.58  18.50  15.04  \n",
      "1961-01-02   9.67  17.54  13.83  \n",
      "1961-01-03   7.67  12.75  12.71  \n",
      "1961-01-04   5.88   5.46  10.88  \n",
      "1961-01-05  10.34  12.92  11.83  \n"
     ]
    }
   ],
   "source": [
    "import pandas as pd\n",
    "\n",
    "# Load the dataset\n",
    "file_path = \"C:\\\\Users\\\\HP\\\\Downloads\\\\wind.txt\"\n",
    "data = pd.read_csv(file_path, delim_whitespace=True)\n",
    "\n",
    "# Convert two-digit year to four-digit year (assuming 1900s for this example)\n",
    "data['Yr'] = data['Yr'].apply(lambda x: x + 1900 if x < 100 else x)\n",
    "\n",
    "# Create a new 'Date' column by combining Yr, Mo, and Dy with the correct format\n",
    "data['Date'] = pd.to_datetime(data[['Yr', 'Mo', 'Dy']].astype(str).agg('-'.join, axis=1), format='%Y-%m-%d', errors='coerce')\n",
    "\n",
    "# Set the 'Date' column as the index\n",
    "data.set_index('Date', inplace=True)\n",
    "\n",
    "# Drop the original Yr, Mo, and Dy columns as they're no longer needed\n",
    "data.drop(columns=['Yr', 'Mo', 'Dy'], inplace=True)\n",
    "\n",
    "# Verify the changes\n",
    "print(data.head())\n"
   ]
  },
  {
   "cell_type": "code",
   "execution_count": 186,
   "id": "c9a8e1ed-f631-4c23-b00b-35cbbecfb47d",
   "metadata": {},
   "outputs": [],
   "source": [
    "##Step 4: Year 2061? Do we really have data from this year? Create a function to fix it and apply it\n",
    "def fix_year(year):\n",
    "    if year > 2024:  # Assuming the dataset should not have future years\n",
    "        return np.nan\n",
    "    return year\n",
    "\n",
    "data['Yr'] = data.index.year\n",
    "data['Yr'] = data['Yr'].apply(fix_year)\n",
    "data.dropna(subset=['Yr'], inplace=True)\n",
    "data.index = pd.to_datetime(data.index.year.astype(str) + data.index.strftime('-%m-%d'))\n"
   ]
  },
  {
   "cell_type": "code",
   "execution_count": 187,
   "id": "064de4c8-ebb2-494a-baf4-45b558e76682",
   "metadata": {},
   "outputs": [],
   "source": [
    "##Step 5: Set the right dates as the index\n",
    "data.index = pd.to_datetime(data.index)\n"
   ]
  },
  {
   "cell_type": "code",
   "execution_count": 188,
   "id": "fedaa1dc-a8e5-4da9-bbea-1908b3186c66",
   "metadata": {},
   "outputs": [
    {
     "name": "stdout",
     "output_type": "stream",
     "text": [
      "Missing values for each location:\n",
      "RPT    6\n",
      "VAL    3\n",
      "ROS    2\n",
      "KIL    5\n",
      "SHA    2\n",
      "BIR    0\n",
      "DUB    3\n",
      "CLA    2\n",
      "MUL    3\n",
      "CLO    1\n",
      "BEL    0\n",
      "MAL    4\n",
      "Yr     0\n",
      "dtype: int64\n"
     ]
    }
   ],
   "source": [
    "##Step 6: Compute how many values are missing for each location over the entire record\n",
    "missing_values = data.isna().sum()\n",
    "print(\"Missing values for each location:\")\n",
    "print(missing_values)\n"
   ]
  },
  {
   "cell_type": "code",
   "execution_count": 189,
   "id": "ccc7b700-4de5-4f90-91ea-e388dfdd9c7f",
   "metadata": {},
   "outputs": [
    {
     "name": "stdout",
     "output_type": "stream",
     "text": [
      "Total number of non-missing values:\n",
      "85431\n"
     ]
    }
   ],
   "source": [
    "##Step 7: Compute how many non-missing values there are in total\n",
    "non_missing_values = data.notna().sum().sum()\n",
    "print(\"Total number of non-missing values:\")\n",
    "print(non_missing_values)\n"
   ]
  },
  {
   "cell_type": "code",
   "execution_count": 190,
   "id": "ef78aa50-e78d-4f64-abf0-4dcaf23afe53",
   "metadata": {},
   "outputs": [
    {
     "name": "stdout",
     "output_type": "stream",
     "text": [
      "Mean windspeed over all locations and times:\n",
      "160.94123788914024\n"
     ]
    }
   ],
   "source": [
    "##Step 8: Calculate the mean windspeeds of the windspeeds over all the locations and all the times\n",
    "mean_windspeed = data.mean().mean()\n",
    "print(\"Mean windspeed over all locations and times:\")\n",
    "print(mean_windspeed)\n"
   ]
  },
  {
   "cell_type": "code",
   "execution_count": 191,
   "id": "1c8fb4c2-2fe6-4e31-9df8-d87d74d5d551",
   "metadata": {},
   "outputs": [
    {
     "name": "stdout",
     "output_type": "stream",
     "text": [
      "Location statistics:\n",
      "         min      max         mean       std\n",
      "RPT     0.67    35.80    12.362987  5.618413\n",
      "VAL     0.21    33.37    10.644314  5.267356\n",
      "ROS     1.50    33.84    11.660526  5.008450\n",
      "KIL     0.00    28.46     6.306468  3.605811\n",
      "SHA     0.13    37.54    10.455834  4.936125\n",
      "BIR     0.00    26.16     7.092254  3.968683\n",
      "DUB     0.00    30.37     9.797343  4.977555\n",
      "CLA     0.00    31.08     8.495053  4.499449\n",
      "MUL     0.00    25.88     8.493590  4.166872\n",
      "CLO     0.04    28.21     8.707332  4.503954\n",
      "BEL     0.13    42.38    13.121007  5.835037\n",
      "MAL     0.67    42.54    15.599079  6.699794\n",
      "Yr   1961.00  1978.00  1969.500304  5.188131\n"
     ]
    }
   ],
   "source": [
    "##Step 9: Create a DataFrame called loc_stats and calculate the min, max, mean, and standard deviations of the windspeeds at each location over all the days\n",
    "loc_stats = pd.DataFrame({\n",
    "    'min': data.min(),\n",
    "    'max': data.max(),\n",
    "    'mean': data.mean(),\n",
    "    'std': data.std()\n",
    "})\n",
    "print(\"Location statistics:\")\n",
    "print(loc_stats)\n"
   ]
  },
  {
   "cell_type": "code",
   "execution_count": 192,
   "id": "a7f7b475-5135-4b61-92e3-8e97a5e8e576",
   "metadata": {},
   "outputs": [
    {
     "name": "stdout",
     "output_type": "stream",
     "text": [
      "Day statistics:\n",
      "             min     max        mean         std\n",
      "Date                                            \n",
      "1961-01-01  9.29  1961.0  175.350000  562.340291\n",
      "1961-01-02  6.50  1961.0  173.808333  562.827626\n",
      "1961-01-03  6.17  1961.0  174.088333  562.742186\n",
      "1961-01-04  1.79  1961.0  156.956154  542.056364\n",
      "1961-01-05  6.17  1961.0  160.658462  540.940377\n",
      "...          ...     ...         ...         ...\n",
      "1978-12-27  8.08  1978.0  167.576923  544.016595\n",
      "1978-12-28  5.00  1978.0  166.138462  544.475652\n",
      "1978-12-29  8.71  1978.0  165.898462  544.496649\n",
      "1978-12-30  9.13  1978.0  166.339231  544.362162\n",
      "1978-12-31  9.59  1978.0  166.371538  544.353990\n",
      "\n",
      "[6574 rows x 4 columns]\n"
     ]
    }
   ],
   "source": [
    "##Step 10: Create a DataFrame called day_stats and calculate the min, max, mean, and standard deviations of the windspeeds across all the locations at each day\n",
    "day_stats = pd.DataFrame({\n",
    "    'min': data.min(axis=1),\n",
    "    'max': data.max(axis=1),\n",
    "    'mean': data.mean(axis=1),\n",
    "    'std': data.std(axis=1)\n",
    "})\n",
    "print(\"Day statistics:\")\n",
    "print(day_stats)\n"
   ]
  },
  {
   "cell_type": "code",
   "execution_count": 193,
   "id": "eb58efd5-7676-464b-a685-17e323426559",
   "metadata": {},
   "outputs": [
    {
     "name": "stdout",
     "output_type": "stream",
     "text": [
      "Average windspeed in January for each location:\n",
      "            RPT        VAL        ROS        KIL        SHA        BIR  \\\n",
      "Date                                                                     \n",
      "1961  14.841333  11.988333  13.431613   7.736774  11.072759   8.588065   \n",
      "1962  14.783871  13.160323  12.591935   7.538065  11.779677   8.720000   \n",
      "1963  14.868387  11.112903  15.121613   6.635806  11.080645   7.835484   \n",
      "1964  12.661290  11.818387  11.741290   6.953548  11.400645   6.865806   \n",
      "1965  15.741613  15.546774  15.274194   8.258387  13.588065   9.251290   \n",
      "1966  15.834839  13.283226  15.136452   8.659355  12.968065   9.163548   \n",
      "1967  13.736129  11.470968  11.537419   6.928065  10.833548   6.730323   \n",
      "1968  14.733226  12.829032  12.294194   7.849032  12.262581   7.133226   \n",
      "1969  12.824839  12.113871  11.403871   6.708710  10.557097   5.926452   \n",
      "1970  13.152581  11.731935  13.083871   5.810968   9.507742   8.040323   \n",
      "1971  15.098065  13.398387  13.080000   6.364194  11.342258   7.759677   \n",
      "1972  14.383871  11.848387  13.732258   5.925161  10.823226   7.291290   \n",
      "1973  13.177742  12.202903  10.860968   5.454516   9.327419   7.419677   \n",
      "1974  20.990968  17.623548  17.514839  10.549355  15.858387  11.298387   \n",
      "1975  17.100323  15.812903  13.942581   8.081935  13.934194   8.437742   \n",
      "1976  15.626129  14.240323  13.867097   7.789355  13.081935   9.003548   \n",
      "1977  13.404516  10.377742  12.764839   5.884516   9.159677   8.005161   \n",
      "1978  14.291935  11.872258  12.014194   6.463226  11.402903   7.517097   \n",
      "\n",
      "            DUB        CLA        MUL        CLO        BEL        MAL      Yr  \n",
      "Date                                                                            \n",
      "1961  11.184839   9.245333   9.085806  10.107419  13.880968  14.703226  1961.0  \n",
      "1962  14.211935   9.600000   9.670000  11.498710  16.369355  15.661613  1962.0  \n",
      "1963  12.797419   9.844839   7.841613   9.390000  11.428710  18.822258  1963.0  \n",
      "1964   9.592903   9.687419   6.947742   9.676774  15.067419  14.145484  1964.0  \n",
      "1965  13.850968  11.260000   9.899355  11.706129  16.196129  17.888710  1965.0  \n",
      "1966  12.150000  10.475806   8.750645  10.739677  14.074516  15.554194  1966.0  \n",
      "1967   9.787419   7.474839   7.627097  10.169032  13.457742  17.124516  1967.0  \n",
      "1968  12.395806   9.225806   9.415484   9.255161  14.213871  19.095484  1968.0  \n",
      "1969   9.882903   8.375161   8.378065   9.515484  13.410000  16.957742  1969.0  \n",
      "1970   9.843226   8.834194   8.407097   7.626452  12.403871  17.192903  1970.0  \n",
      "1971  10.297419   8.350000   8.979355   8.666774  14.392581  16.360000  1971.0  \n",
      "1972  11.287097   6.733548   9.109355   8.728387  12.170645  17.598710  1972.0  \n",
      "1973  10.738710   7.880000   8.651290   7.596774  12.076452  14.684516  1973.0  \n",
      "1974  14.112258  12.786452  14.691935  15.092903  19.929677  24.573226  1974.0  \n",
      "1975  13.179677  12.601935  13.000645  11.064839  19.266774  21.713226  1975.0  \n",
      "1976  15.121290  11.414839  13.493226  11.553871  16.337097  22.896129  1976.0  \n",
      "1977  10.107419   7.211613   8.280000   9.328387  12.131935  18.830000  1977.0  \n",
      "1978  12.207097  10.206452   9.549032   9.247419  15.101613  20.715806  1978.0  \n"
     ]
    }
   ],
   "source": [
    "##Step 11: Find the average windspeed in January for each location\n",
    "# Create a month filter for January\n",
    "january_data = data[data.index.month == 1]\n",
    "average_january_windspeed = january_data.groupby(january_data.index.year).mean()\n",
    "print(\"Average windspeed in January for each location:\")\n",
    "print(average_january_windspeed)\n"
   ]
  },
  {
   "cell_type": "code",
   "execution_count": 194,
   "id": "7366e9d4-5bcf-4bd4-89ae-24079fcf69ef",
   "metadata": {},
   "outputs": [
    {
     "name": "stdout",
     "output_type": "stream",
     "text": [
      "Yearly data:\n",
      "                  RPT        VAL        ROS       KIL        SHA       BIR  \\\n",
      "Date                                                                         \n",
      "1961-12-31  12.299583  10.351796  11.362369  6.958227  10.881763  7.729726   \n",
      "1962-12-31  12.246923  10.110438  11.732712  6.960440  10.657918  7.393068   \n",
      "1963-12-31  12.813452  10.836986  12.541151  7.330055  11.724110  8.434712   \n",
      "1964-12-31  12.363661  10.920164  12.104372  6.787787  11.454481  7.570874   \n",
      "1965-12-31  12.451370  11.075534  11.848767  6.858466  11.024795  7.478110   \n",
      "1966-12-31  13.461973  11.557205  12.020630  7.345726  11.805041  7.793671   \n",
      "1967-12-31  12.737151  10.990986  11.739397  7.143425  11.630740  7.368164   \n",
      "1968-12-31  11.835628  10.468197  11.409754  6.477678  10.760765  6.067322   \n",
      "1969-12-31  11.166356   9.723699  10.902000  5.767973   9.873918  6.189973   \n",
      "1970-12-31  12.600329  10.726932  11.730247  6.217178  10.567370  7.609452   \n",
      "1971-12-31  11.273123   9.095178  11.088329  5.241507   9.440329  6.097151   \n",
      "1972-12-31  12.463962  10.561311  12.058333  5.929699   9.430410  6.358825   \n",
      "1973-12-31  11.828466  10.680493  10.680493  5.547863   9.640877  6.548740   \n",
      "1974-12-31  13.643096  11.811781  12.336356  6.427041  11.110986  6.809781   \n",
      "1975-12-31  12.008575  10.293836  11.564712  5.269096   9.190082  5.668521   \n",
      "1976-12-31  11.737842  10.203115  10.761230  5.109426   8.846339  6.311038   \n",
      "1977-12-31  13.099616  11.144493  12.627836  6.073945  10.003836  8.586438   \n",
      "1978-12-31  12.504356  11.044274  11.380000  6.082356  10.167233  7.650658   \n",
      "\n",
      "                  DUB        CLA       MUL        CLO        BEL        MAL  \\\n",
      "Date                                                                          \n",
      "1961-12-31   9.733923   8.858788  8.647652   9.835577  13.502795  13.680773   \n",
      "1962-12-31  11.020712   8.793753  8.316822   9.676247  12.930685  14.323956   \n",
      "1963-12-31  11.075699  10.336548  8.903589  10.224438  13.638877  14.999014   \n",
      "1964-12-31  10.259153   9.467350  7.789016  10.207951  13.740546  14.910301   \n",
      "1965-12-31  10.618712   8.879918  7.907425   9.918082  12.964247  15.591644   \n",
      "1966-12-31  10.579808   8.835096  8.514438   9.768959  14.265836  16.307260   \n",
      "1967-12-31  10.652027   9.325616  8.645014   9.547425  14.774548  17.135945   \n",
      "1968-12-31   8.859180   8.255519  7.224945   7.832978  12.808634  15.017486   \n",
      "1969-12-31   8.564493   7.711397  7.924521   7.754384  12.621233  15.762904   \n",
      "1970-12-31   9.609890   8.334630  9.297616   8.289808  13.183644  16.456027   \n",
      "1971-12-31   8.385890   6.757315  7.915370   7.229753  12.208932  15.025233   \n",
      "1972-12-31   9.704508   7.680792  8.357295   7.515273  12.727377  15.028716   \n",
      "1973-12-31   8.482110   7.614274  8.245534   7.812411  12.169699  15.441096   \n",
      "1974-12-31  10.084603   9.896986  9.331753   8.736356  13.252959  16.947671   \n",
      "1975-12-31   8.562603   7.843836  8.797945   7.382822  12.631671  15.307863   \n",
      "1976-12-31   9.149126   7.146202  8.883716   7.883087  12.332377  15.471448   \n",
      "1977-12-31  11.523205   8.378384  9.098192   8.821616  13.459068  16.590849   \n",
      "1978-12-31   9.489342   8.800466  9.089753   8.301699  12.967397  16.771370   \n",
      "\n",
      "                Yr  \n",
      "Date                \n",
      "1961-12-31  1961.0  \n",
      "1962-12-31  1962.0  \n",
      "1963-12-31  1963.0  \n",
      "1964-12-31  1964.0  \n",
      "1965-12-31  1965.0  \n",
      "1966-12-31  1966.0  \n",
      "1967-12-31  1967.0  \n",
      "1968-12-31  1968.0  \n",
      "1969-12-31  1969.0  \n",
      "1970-12-31  1970.0  \n",
      "1971-12-31  1971.0  \n",
      "1972-12-31  1972.0  \n",
      "1973-12-31  1973.0  \n",
      "1974-12-31  1974.0  \n",
      "1975-12-31  1975.0  \n",
      "1976-12-31  1976.0  \n",
      "1977-12-31  1977.0  \n",
      "1978-12-31  1978.0  \n"
     ]
    }
   ],
   "source": [
    "##Step 12: Downsample the record to a yearly frequency for each location\n",
    "yearly_data = data.resample('Y').mean()\n",
    "print(\"Yearly data:\")\n",
    "print(yearly_data)\n"
   ]
  },
  {
   "cell_type": "code",
   "execution_count": 195,
   "id": "e9fe3f33-990f-4002-864e-d9fed01091da",
   "metadata": {},
   "outputs": [
    {
     "name": "stdout",
     "output_type": "stream",
     "text": [
      "Monthly data:\n",
      "                  RPT        VAL        ROS       KIL        SHA        BIR  \\\n",
      "Date                                                                          \n",
      "1961-01-31  14.841333  11.988333  13.431613  7.736774  11.072759   8.588065   \n",
      "1961-02-28  16.269286  14.975357  14.441481  9.230741  13.852143  10.937500   \n",
      "1961-03-31  10.890000  11.296452  10.752903  7.284000  10.509355   8.866774   \n",
      "1961-04-30  10.722667   9.427667   9.998000  5.830667   8.435000   6.495000   \n",
      "1961-05-31   9.860968   8.850000  10.818065  5.905333   9.490323   6.574839   \n",
      "...               ...        ...        ...       ...        ...        ...   \n",
      "1978-08-31   9.645161   8.259355   9.032258  4.502903   7.368065   5.935161   \n",
      "1978-09-30  10.913667  10.895000  10.635000  5.725000  10.372000   9.278333   \n",
      "1978-10-31   9.897742   8.670968   9.295806  4.721290   8.525161   6.774194   \n",
      "1978-11-30  16.151667  14.802667  13.508000  7.317333  11.475000   8.743000   \n",
      "1978-12-31  16.175484  13.748065  15.635161  7.094839  11.398710   9.241613   \n",
      "\n",
      "                  DUB        CLA        MUL        CLO        BEL        MAL  \\\n",
      "Date                                                                           \n",
      "1961-01-31  11.184839   9.245333   9.085806  10.107419  13.880968  14.703226   \n",
      "1961-02-28  11.890714  11.846071  11.821429  12.714286  18.583214  15.411786   \n",
      "1961-03-31   9.644194   9.829677  10.294138  11.251935  16.410968  15.720000   \n",
      "1961-04-30   6.925333   7.094667   7.342333   7.237000  11.147333  10.278333   \n",
      "1961-05-31   7.604000   8.177097   8.039355   8.499355  11.900323  12.011613   \n",
      "...               ...        ...        ...        ...        ...        ...   \n",
      "1978-08-31   5.650323   5.417742   7.241290   5.536774  10.466774  12.054194   \n",
      "1978-09-30  10.790333   9.583000  10.069333   8.939000  15.680333  19.391333   \n",
      "1978-10-31   8.115484   7.337742   8.297742   8.243871  13.776774  17.150000   \n",
      "1978-11-30  11.492333   9.657333  10.701333  10.676000  17.404667  20.723000   \n",
      "1978-12-31  12.077419  10.194839  10.616774  11.028710  13.859677  21.371613   \n",
      "\n",
      "                Yr  \n",
      "Date                \n",
      "1961-01-31  1961.0  \n",
      "1961-02-28  1961.0  \n",
      "1961-03-31  1961.0  \n",
      "1961-04-30  1961.0  \n",
      "1961-05-31  1961.0  \n",
      "...            ...  \n",
      "1978-08-31  1978.0  \n",
      "1978-09-30  1978.0  \n",
      "1978-10-31  1978.0  \n",
      "1978-11-30  1978.0  \n",
      "1978-12-31  1978.0  \n",
      "\n",
      "[216 rows x 13 columns]\n"
     ]
    }
   ],
   "source": [
    "##Step 13: Downsample the record to a monthly frequency for each location\n",
    "monthly_data = data.resample('M').mean()\n",
    "print(\"Monthly data:\")\n",
    "print(monthly_data)\n"
   ]
  },
  {
   "cell_type": "code",
   "execution_count": 196,
   "id": "867799ca-9d25-4596-b64c-8eac5097eadd",
   "metadata": {},
   "outputs": [
    {
     "name": "stdout",
     "output_type": "stream",
     "text": [
      "Weekly data:\n",
      "                  RPT        VAL        ROS        KIL        SHA        BIR  \\\n",
      "Date                                                                           \n",
      "1961-01-01  15.040000  14.960000  13.170000   9.290000        NaN   9.870000   \n",
      "1961-01-08  13.541429  11.486667  10.487143   6.417143   9.474286   6.435714   \n",
      "1961-01-15  12.468571   8.967143  11.958571   4.630000   7.351429   5.072857   \n",
      "1961-01-22  13.204286   9.862857  12.982857   6.328571   8.966667   7.417143   \n",
      "1961-01-29  19.880000  16.141429  18.225714  12.720000  17.432857  14.828571   \n",
      "...               ...        ...        ...        ...        ...        ...   \n",
      "1978-12-03  14.934286  11.232857  13.941429   5.565714  10.215714   8.618571   \n",
      "1978-12-10  20.740000  19.190000  17.034286   9.777143  15.287143  12.774286   \n",
      "1978-12-17  16.758571  14.692857  14.987143   6.917143  11.397143   7.272857   \n",
      "1978-12-24  11.155714   8.008571  13.172857   4.004286   7.825714   6.290000   \n",
      "1978-12-31  14.951429  11.801429  16.035714   6.507143   9.660000   8.620000   \n",
      "\n",
      "                  DUB        CLA        MUL        CLO        BEL        MAL  \\\n",
      "Date                                                                           \n",
      "1961-01-01  13.670000  10.250000  10.830000  12.580000  18.500000  15.040000   \n",
      "1961-01-08  11.061429   6.616667   8.434286   8.497143  12.481429  13.238571   \n",
      "1961-01-15   7.535714   6.820000   5.712857   7.571429  11.125714  11.024286   \n",
      "1961-01-22   9.257143   7.875714   7.145714   8.124286   9.821429  11.434286   \n",
      "1961-01-29  15.528571  15.160000  14.480000  15.640000  20.930000  22.530000   \n",
      "...               ...        ...        ...        ...        ...        ...   \n",
      "1978-12-03   9.642857   7.685714   9.011429   9.547143  11.835714  18.728571   \n",
      "1978-12-10  14.437143  12.488571  13.870000  14.082857  18.517143  23.061429   \n",
      "1978-12-17  10.208571   7.967143   9.168571   8.565714  11.102857  15.562857   \n",
      "1978-12-24   7.798571   8.667143   7.151429   8.072857  11.845714  18.977143   \n",
      "1978-12-31  13.708571  10.477143  10.868571  11.471429  12.947143  26.844286   \n",
      "\n",
      "                Yr  \n",
      "Date                \n",
      "1961-01-01  1961.0  \n",
      "1961-01-08  1961.0  \n",
      "1961-01-15  1961.0  \n",
      "1961-01-22  1961.0  \n",
      "1961-01-29  1961.0  \n",
      "...            ...  \n",
      "1978-12-03  1978.0  \n",
      "1978-12-10  1978.0  \n",
      "1978-12-17  1978.0  \n",
      "1978-12-24  1978.0  \n",
      "1978-12-31  1978.0  \n",
      "\n",
      "[940 rows x 13 columns]\n"
     ]
    }
   ],
   "source": [
    "##Step 14: Downsample the record to a weekly frequency for each location\n",
    "weekly_data = data.resample('W').mean()\n",
    "print(\"Weekly data:\")\n",
    "print(weekly_data)\n"
   ]
  },
  {
   "cell_type": "code",
   "execution_count": 197,
   "id": "1151a24a-722d-4069-820d-f297e42c463a",
   "metadata": {},
   "outputs": [
    {
     "name": "stdout",
     "output_type": "stream",
     "text": [
      "Weekly statistics for the first 52 weeks:\n",
      "              RPT                                VAL                    \\\n",
      "              min    max       mean       std    min    max       mean   \n",
      "Date                                                                     \n",
      "1961-01-01  15.04  15.04  15.040000       NaN  14.96  14.96  14.960000   \n",
      "1961-01-08  10.58  18.50  13.541429  2.631321   6.63  16.88  11.486667   \n",
      "1961-01-15   9.04  19.75  12.468571  3.555392   3.54  12.08   8.967143   \n",
      "1961-01-22   4.92  19.83  13.204286  5.337402   3.42  14.37   9.862857   \n",
      "1961-01-29  13.62  25.04  19.880000  4.619061   9.96  23.91  16.141429   \n",
      "1961-02-05  10.58  24.21  16.827143  5.251408   9.46  24.21  15.460000   \n",
      "1961-02-12  16.00  24.54  19.684286  3.587677  11.54  21.42  16.417143   \n",
      "1961-02-19   6.04  22.50  15.130000  5.064609  11.63  20.17  15.091429   \n",
      "1961-02-26   7.79  25.80  15.221429  7.020716   7.08  21.50  13.625714   \n",
      "1961-03-05  10.96  13.33  12.101429  0.997721   8.83  17.00  12.951429   \n",
      "1961-03-12   4.88  14.79   9.376667  3.732263   8.08  16.96  11.578571   \n",
      "1961-03-19   4.92  16.88  11.911429  3.860036   9.46  15.54  13.501429   \n",
      "1961-03-26   6.29  15.00   9.567143  3.613298   2.58  11.63   8.387143   \n",
      "1961-04-02   5.88  18.25  10.757143  5.046922   3.50  16.29   8.852857   \n",
      "1961-04-09   4.50  18.12  11.964286  4.604392   7.04  14.62  10.654286   \n",
      "1961-04-16   4.71  15.50   8.965714  3.937727   4.83  12.25   8.000000   \n",
      "1961-04-23   4.00  21.09  12.621429  5.676655   3.71  15.41  10.438571   \n",
      "1961-04-30   4.08  16.29  10.117143  4.349662   6.50  14.46   9.798571   \n",
      "1961-05-07   9.87  23.00  15.367143  5.025507  10.29  19.79  13.970000   \n",
      "1961-05-14   3.54  12.79   7.772857  3.371022   3.96  15.12   8.712857   \n",
      "1961-05-21   4.88  15.04   8.225714  3.631730   3.58  10.17   5.631667   \n",
      "1961-05-28   4.96  11.79   8.155714  2.739433   3.67  12.50   7.388571   \n",
      "1961-06-04   7.00  15.92  10.321429  3.099701   4.75   9.79   7.407143   \n",
      "1961-06-11   8.29  14.42  10.917143  2.248597   6.83  11.54   8.992857   \n",
      "1961-06-18   6.13  14.33  10.571429  3.009482   4.12  14.54   9.565714   \n",
      "1961-06-25   4.00   9.00   7.345714  1.982035   3.25   9.50   6.108571   \n",
      "1961-07-02   7.21  13.13  10.236667  2.557856   6.34  14.37   9.482857   \n",
      "1961-07-09   7.29  17.50  11.715714  3.664855   3.75  10.75   7.220000   \n",
      "1961-07-16   8.63  22.50  16.680000  5.168710   7.87  19.29  13.518571   \n",
      "1961-07-23   3.04   5.88   4.202857  1.047978   2.92   6.79   4.255714   \n",
      "1961-07-30   6.13  16.08  10.561429  4.157641   4.63  13.79   8.445714   \n",
      "1961-08-06   7.67  16.08  10.870000  2.950887   5.09  15.79   8.792857   \n",
      "1961-08-13   2.88  14.21  10.058333  4.422268   4.42  10.00   7.941429   \n",
      "1961-08-20  13.13  18.91  15.607143  2.283635   7.25  13.62  10.565714   \n",
      "1961-08-27   7.67  18.16  12.391429  3.395857   6.87  14.58  11.430000   \n",
      "1961-09-03   3.63  14.46   8.678571  4.398615   1.13  22.00   8.821429   \n",
      "1961-09-10   5.00  17.62  10.541429  5.207278   3.04  13.59   8.798571   \n",
      "1961-09-17   5.33  28.75  17.160000  7.679190   7.12  22.08  14.440000   \n",
      "1961-09-24   6.92  10.25   8.500000  1.267399   2.92  13.62   7.154286   \n",
      "1961-10-01  10.34  23.21  16.044286  4.559572   6.96  13.62  11.361667   \n",
      "1961-10-08   3.13  16.08  11.250000  5.596710   3.63  16.96   8.757143   \n",
      "1961-10-15   3.71  17.12  10.881667  4.780675   6.13  13.25   9.734286   \n",
      "1961-10-22  10.46  28.62  19.260000  7.888314   3.75  19.46  13.364286   \n",
      "1961-10-29   4.33  26.42  16.077143  7.957637   2.75  21.25  11.867143   \n",
      "1961-11-05   5.88  15.79  11.571429  3.369201   3.96  13.46   9.590000   \n",
      "1961-11-12   5.46  16.08  10.428571  3.939811   5.50  10.75   7.690000   \n",
      "1961-11-19   7.50  15.00  10.798571  2.784358   4.21  13.00   7.951429   \n",
      "1961-11-26   5.75  14.29   9.154286  3.214368   3.29  11.79   7.337143   \n",
      "1961-12-03   7.92  23.75  12.608571  5.704669   4.67  18.71  10.442857   \n",
      "1961-12-10  10.83  23.71  17.362857  4.890152   9.21  21.37  14.362857   \n",
      "1961-12-17   9.29  21.34  14.985714  4.095106   8.63  17.62  13.472857   \n",
      "1961-12-24  11.46  24.41  15.757143  4.959717   9.79  16.13  11.971429   \n",
      "1961-12-31   5.04  20.54  13.634286  5.787783   3.08  16.04   9.504286   \n",
      "\n",
      "                        ROS         ...        BEL              MAL         \\\n",
      "                 std    min    max  ...       mean       std    min    max   \n",
      "Date                                ...                                      \n",
      "1961-01-01       NaN  13.17  13.17  ...  18.500000       NaN  15.04  15.04   \n",
      "1961-01-08  3.949525   7.62  12.33  ...  12.481429  4.349139  10.88  16.46   \n",
      "1961-01-15  3.148945   7.08  19.50  ...  11.125714  5.552215   5.17  16.92   \n",
      "1961-01-22  3.837785   7.29  20.79  ...   9.821429  3.626584   6.79  17.96   \n",
      "1961-01-29  5.170224  12.67  25.84  ...  20.930000  5.210726  17.50  27.63   \n",
      "1961-02-05  5.187395   9.04  19.70  ...  14.012857  4.210858   7.17  19.25   \n",
      "1961-02-12  3.608373  13.67  21.34  ...  21.832857  4.063753  17.04  21.84   \n",
      "1961-02-19  3.575012   6.13  19.41  ...  21.167143  5.910938  10.96  22.58   \n",
      "1961-02-26  5.147348   6.08  22.42  ...  16.304286  5.091162   6.67  23.87   \n",
      "1961-03-05  2.851955   8.17  13.67  ...  17.842857  4.332331   8.83  17.54   \n",
      "1961-03-12  3.230167   7.54  16.38  ...  16.701429  4.358759   5.54  22.54   \n",
      "1961-03-19  2.352867   5.25  13.96  ...  19.350000  3.779727  11.34  22.95   \n",
      "1961-03-26  3.657265   4.79  15.63  ...  14.037143  4.318069  13.13  22.50   \n",
      "1961-04-02  4.687315   5.09  14.96  ...  13.471429  4.179854   7.17  19.58   \n",
      "1961-04-09  2.845399   9.29  18.29  ...  11.712857  3.147781   7.21  15.34   \n",
      "1961-04-16  2.607118   3.92  15.79  ...   9.482857  3.641464   5.66  12.87   \n",
      "1961-04-23  4.631736   3.33  17.00  ...  13.620000  4.735096   4.96  20.46   \n",
      "1961-04-30  2.871425   2.54  14.96  ...   9.720000  2.948237   2.67  17.50   \n",
      "1961-05-07  3.750835   8.42  21.21  ...  17.548571  8.003490   3.83  26.58   \n",
      "1961-05-14  3.782947   4.63  12.33  ...  10.421429  3.968272   3.33  26.30   \n",
      "1961-05-21  2.468906   5.91  15.96  ...   9.624286  1.975853   5.91  14.96   \n",
      "1961-05-28  3.378537   3.58  20.96  ...  10.518571  3.024524   8.00  17.04   \n",
      "1961-06-04  1.868125   6.83  15.96  ...  12.298571  2.611139  10.63  17.96   \n",
      "1961-06-11  1.524836   6.04  11.58  ...  10.148571  3.993062   5.96  19.83   \n",
      "1961-06-18  3.509444   6.50  15.50  ...  15.351429  6.477887   6.13  24.71   \n",
      "1961-06-25  2.212460   5.13  10.37  ...  14.370000  2.498386  13.75  21.50   \n",
      "1961-07-02  2.902411   7.62  10.79  ...  14.535714  6.303747   8.50  16.79   \n",
      "1961-07-09  2.686658   7.41  14.92  ...  12.220000  4.537988  12.08  21.29   \n",
      "1961-07-16  3.849630   8.00  14.29  ...  13.520000  4.971060   5.96  21.96   \n",
      "1961-07-23  1.400010   4.08  12.67  ...   7.524286  2.050218   5.41  10.92   \n",
      "1961-07-30  3.203206   6.42  15.67  ...  12.841429  5.580903   6.13  25.37   \n",
      "1961-08-06  3.985226   5.54  15.59  ...  11.595714  4.901377   9.08  20.25   \n",
      "1961-08-13  2.053326   6.00  11.63  ...  10.934286  2.931302   5.88  15.16   \n",
      "1961-08-20  2.523416   9.17  14.04  ...  14.922857  4.086725  13.04  24.30   \n",
      "1961-08-27  3.174702   9.50  17.83  ...  16.251429  6.711322   8.29  22.29   \n",
      "1961-09-03  7.474025   2.42  12.75  ...  13.664286  7.678051   5.41  22.54   \n",
      "1961-09-10  4.003996   3.63  14.88  ...  10.700000  4.220584   3.37  20.25   \n",
      "1961-09-17  5.360585   7.29  26.50  ...  19.878571  4.464252  14.67  33.09   \n",
      "1961-09-24  3.445262   5.33  12.17  ...  11.018571  5.235868   5.25  14.62   \n",
      "1961-10-01  2.812482   7.87  17.58  ...  16.208571  5.091268   4.04  17.16   \n",
      "1961-10-08  5.060803   4.96  17.83  ...   8.810000  4.800403   4.83  19.62   \n",
      "1961-10-15  2.707483   4.21  20.96  ...  14.451429  4.113200  10.75  21.04   \n",
      "1961-10-22  5.998199   9.92  22.63  ...  17.477143  5.645871  13.46  33.45   \n",
      "1961-10-29  6.879973   4.79  23.09  ...  15.592857  7.056150   9.83  30.88   \n",
      "1961-11-05  3.900278   6.54  14.33  ...  16.322857  4.038493  13.37  23.58   \n",
      "1961-11-12  2.141191   3.83  20.41  ...   9.208571  2.532196   5.71  15.54   \n",
      "1961-11-19  3.208548   6.46  32.71  ...   5.875714  3.643285   2.00  13.25   \n",
      "1961-11-26  3.277904   4.42  14.46  ...  11.772857  5.407223   4.25  22.58   \n",
      "1961-12-03  5.107089   8.00  19.92  ...  11.464286  5.552648   5.88  21.29   \n",
      "1961-12-10  4.115506   9.71  20.54  ...  15.975714  4.667933   7.58  29.33   \n",
      "1961-12-17  3.587886   9.04  19.00  ...  15.112857  6.531043   6.50  21.12   \n",
      "1961-12-24  2.220866   8.08  22.13  ...   9.958571  5.065308   2.62  16.62   \n",
      "1961-12-31  4.566479   2.13  29.33  ...   9.697143  3.262217   6.63  15.21   \n",
      "\n",
      "                                   Yr                     \n",
      "                 mean       std   min   max    mean  std  \n",
      "Date                                                      \n",
      "1961-01-01  15.040000       NaN  1961  1961  1961.0  NaN  \n",
      "1961-01-08  13.238571  1.773062  1961  1961  1961.0  0.0  \n",
      "1961-01-15  11.024286  4.692355  1961  1961  1961.0  0.0  \n",
      "1961-01-22  11.434286  4.237239  1961  1961  1961.0  0.0  \n",
      "1961-01-29  22.530000  3.874721  1961  1961  1961.0  0.0  \n",
      "1961-02-05  11.935714  4.336104  1961  1961  1961.0  0.0  \n",
      "1961-02-12  19.155714  1.828705  1961  1961  1961.0  0.0  \n",
      "1961-02-19  16.584286  4.685377  1961  1961  1961.0  0.0  \n",
      "1961-02-26  14.322857  6.182283  1961  1961  1961.0  0.0  \n",
      "1961-03-05  13.951667  3.021387  1961  1961  1961.0  0.0  \n",
      "1961-03-12  14.420000  5.769890  1961  1961  1961.0  0.0  \n",
      "1961-03-19  16.227143  4.331958  1961  1961  1961.0  0.0  \n",
      "1961-03-26  18.134286  3.701846  1961  1961  1961.0  0.0  \n",
      "1961-04-02  13.900000  3.924555  1961  1961  1961.0  0.0  \n",
      "1961-04-09  11.371429  2.598271  1961  1961  1961.0  0.0  \n",
      "1961-04-16   8.690000  2.747842  1961  1961  1961.0  0.0  \n",
      "1961-04-23  12.470000  5.908542  1961  1961  1961.0  0.0  \n",
      "1961-04-30   8.637143  5.108365  1961  1961  1961.0  0.0  \n",
      "1961-05-07  14.571429  7.728504  1961  1961  1961.0  0.0  \n",
      "1961-05-14  10.382857  7.858246  1961  1961  1961.0  0.0  \n",
      "1961-05-21  10.612857  3.310819  1961  1961  1961.0  0.0  \n",
      "1961-05-28  11.697143  3.811818  1961  1961  1961.0  0.0  \n",
      "1961-06-04  13.597143  2.593586  1961  1961  1961.0  0.0  \n",
      "1961-06-11  12.250000  4.925055  1961  1961  1961.0  0.0  \n",
      "1961-06-18  15.025714  6.242673  1961  1961  1961.0  0.0  \n",
      "1961-06-25  17.410000  3.063011  1961  1961  1961.0  0.0  \n",
      "1961-07-02  12.133333  3.652313  1961  1961  1961.0  0.0  \n",
      "1961-07-09  15.987143  3.665705  1961  1961  1961.0  0.0  \n",
      "1961-07-16  12.524286  4.974273  1961  1961  1961.0  0.0  \n",
      "1961-07-23   8.415714  2.133994  1961  1961  1961.0  0.0  \n",
      "1961-07-30  13.761429  6.664574  1961  1961  1961.0  0.0  \n",
      "1961-08-06  13.760000  4.448251  1961  1961  1961.0  0.0  \n",
      "1961-08-13  10.125714  3.356585  1961  1961  1961.0  0.0  \n",
      "1961-08-20  16.626667  3.934238  1961  1961  1961.0  0.0  \n",
      "1961-08-27  16.485714  4.947608  1961  1961  1961.0  0.0  \n",
      "1961-09-03  11.022857  6.308087  1961  1961  1961.0  0.0  \n",
      "1961-09-10  11.034286  6.049619  1961  1961  1961.0  0.0  \n",
      "1961-09-17  18.984286  6.332885  1961  1961  1961.0  0.0  \n",
      "1961-09-24   9.814286  3.113507  1961  1961  1961.0  0.0  \n",
      "1961-10-01  13.338571  4.696504  1961  1961  1961.0  0.0  \n",
      "1961-10-08  11.410000  5.462002  1961  1961  1961.0  0.0  \n",
      "1961-10-15  15.260000  4.098130  1961  1961  1961.0  0.0  \n",
      "1961-10-22  23.641429  7.468377  1961  1961  1961.0  0.0  \n",
      "1961-10-29  18.404286  8.340881  1961  1961  1961.0  0.0  \n",
      "1961-11-05  19.195714  3.870800  1961  1961  1961.0  0.0  \n",
      "1961-11-12  10.858571  3.690752  1961  1961  1961.0  0.0  \n",
      "1961-11-19   5.737143  3.787654  1961  1961  1961.0  0.0  \n",
      "1961-11-26  12.732857  6.475867  1961  1961  1961.0  0.0  \n",
      "1961-12-03  14.725714  5.233192  1961  1961  1961.0  0.0  \n",
      "1961-12-10  16.241429  7.345893  1961  1961  1961.0  0.0  \n",
      "1961-12-17  14.644286  5.665006  1961  1961  1961.0  0.0  \n",
      "1961-12-24   8.164286  5.048035  1961  1961  1961.0  0.0  \n",
      "1961-12-31  12.840000  3.012729  1961  1961  1961.0  0.0  \n",
      "\n",
      "[53 rows x 52 columns]\n"
     ]
    }
   ],
   "source": [
    "##Step 15: Calculate the min, max, mean, and standard deviations of the windspeeds across all locations for each week (assume that the first week starts on January 2, 1961) for the first 52 weeks\n",
    "# Ensure that the first week starts on January 2, 1961\n",
    "weekly_data_52_weeks = data.resample('W').agg(['min', 'max', 'mean', 'std']).loc[:'1961-12-31']\n",
    "print(\"Weekly statistics for the first 52 weeks:\")\n",
    "print(weekly_data_52_weeks)\n"
   ]
  },
  {
   "cell_type": "markdown",
   "id": "e0185665-a627-42f3-aa5c-010a14d8f5db",
   "metadata": {},
   "source": [
    "#### QUESTION 5 #####"
   ]
  },
  {
   "cell_type": "code",
   "execution_count": 199,
   "id": "9ba39f7d-9b44-49f1-be47-514851786b52",
   "metadata": {},
   "outputs": [],
   "source": [
    "\n",
    "# Step 1: Import the necessary libraries\n",
    "import pandas as pd\n"
   ]
  },
  {
   "cell_type": "code",
   "execution_count": 200,
   "id": "34992efe-67c5-4701-8a5f-ef3af2212351",
   "metadata": {},
   "outputs": [],
   "source": [
    "# Step 2: Import the dataset from the provided URL\n",
    "# Step 3: Assign it to a variable called chipo\n",
    "url = 'https://raw.githubusercontent.com/justmarkham/DAT8/master/data/chipotle.tsv'\n",
    "chipo = pd.read_csv(url, sep='\\t')"
   ]
  },
  {
   "cell_type": "code",
   "execution_count": 201,
   "id": "de46533c-3e2f-4e9c-873d-7f9ac3a6bc72",
   "metadata": {},
   "outputs": [
    {
     "name": "stdout",
     "output_type": "stream",
     "text": [
      "First 10 entries:\n",
      "   order_id  quantity                              item_name  \\\n",
      "0         1         1           Chips and Fresh Tomato Salsa   \n",
      "1         1         1                                   Izze   \n",
      "2         1         1                       Nantucket Nectar   \n",
      "3         1         1  Chips and Tomatillo-Green Chili Salsa   \n",
      "4         2         2                           Chicken Bowl   \n",
      "5         3         1                           Chicken Bowl   \n",
      "6         3         1                          Side of Chips   \n",
      "7         4         1                          Steak Burrito   \n",
      "8         4         1                       Steak Soft Tacos   \n",
      "9         5         1                          Steak Burrito   \n",
      "\n",
      "                                  choice_description item_price  \n",
      "0                                                NaN     $2.39   \n",
      "1                                       [Clementine]     $3.39   \n",
      "2                                            [Apple]     $3.39   \n",
      "3                                                NaN     $2.39   \n",
      "4  [Tomatillo-Red Chili Salsa (Hot), [Black Beans...    $16.98   \n",
      "5  [Fresh Tomato Salsa (Mild), [Rice, Cheese, Sou...    $10.98   \n",
      "6                                                NaN     $1.69   \n",
      "7  [Tomatillo Red Chili Salsa, [Fajita Vegetables...    $11.75   \n",
      "8  [Tomatillo Green Chili Salsa, [Pinto Beans, Ch...     $9.25   \n",
      "9  [Fresh Tomato Salsa, [Rice, Black Beans, Pinto...     $9.25   \n"
     ]
    }
   ],
   "source": [
    "# Step 4: See the first 10 entries\n",
    "print(\"First 10 entries:\")\n",
    "print(chipo.head(10))"
   ]
  },
  {
   "cell_type": "code",
   "execution_count": 202,
   "id": "cb20daab-6d84-48e5-a853-d2e0a7834cda",
   "metadata": {},
   "outputs": [
    {
     "name": "stdout",
     "output_type": "stream",
     "text": [
      "Number of observations: 4622\n"
     ]
    }
   ],
   "source": [
    "# Step 5: What is the number of observations in the dataset?\n",
    "num_observations = chipo.shape[0]\n",
    "print(f\"Number of observations: {num_observations}\")"
   ]
  },
  {
   "cell_type": "code",
   "execution_count": 203,
   "id": "744bc37d-6bdb-466f-980b-bf0f429c5402",
   "metadata": {},
   "outputs": [
    {
     "name": "stdout",
     "output_type": "stream",
     "text": [
      "Number of columns: 5\n"
     ]
    }
   ],
   "source": [
    "# Step 6: What is the number of columns in the dataset?\n",
    "num_columns = chipo.shape[1]\n",
    "print(f\"Number of columns: {num_columns}\")"
   ]
  },
  {
   "cell_type": "code",
   "execution_count": 204,
   "id": "fe834d4e-215c-4971-bb7f-7785160bb82e",
   "metadata": {},
   "outputs": [
    {
     "name": "stdout",
     "output_type": "stream",
     "text": [
      "Column names:\n",
      "['order_id', 'quantity', 'item_name', 'choice_description', 'item_price']\n"
     ]
    }
   ],
   "source": [
    "# Step 7: Print the name of all the columns\n",
    "print(\"Column names:\")\n",
    "print(chipo.columns.tolist())\n"
   ]
  },
  {
   "cell_type": "code",
   "execution_count": 205,
   "id": "35f53053-959f-44f8-a9e4-7c2ef7f93292",
   "metadata": {},
   "outputs": [
    {
     "name": "stdout",
     "output_type": "stream",
     "text": [
      "Dataset index:\n",
      "RangeIndex(start=0, stop=4622, step=1)\n"
     ]
    }
   ],
   "source": [
    "# Step 8: How is the dataset indexed?\n",
    "print(\"Dataset index:\")\n",
    "print(chipo.index)"
   ]
  },
  {
   "cell_type": "code",
   "execution_count": 206,
   "id": "5d3b1d01-995d-4e4f-9e3b-164210d272d3",
   "metadata": {},
   "outputs": [
    {
     "name": "stdout",
     "output_type": "stream",
     "text": [
      "Most ordered item: Chicken Bowl\n"
     ]
    }
   ],
   "source": [
    "# Step 9: Which was the most-ordered item?\n",
    "most_ordered_item = chipo['item_name'].value_counts().idxmax()\n",
    "print(f\"Most ordered item: {most_ordered_item}\")"
   ]
  },
  {
   "cell_type": "code",
   "execution_count": 207,
   "id": "859f471b-d7ff-44c8-aeaf-0964baa69786",
   "metadata": {},
   "outputs": [
    {
     "name": "stdout",
     "output_type": "stream",
     "text": [
      "Total number of 'Chicken Bowl' items ordered: 761\n"
     ]
    }
   ],
   "source": [
    "# Step 10: For the most-ordered item, how many items were ordered?\n",
    "most_ordered_item_count = chipo[chipo['item_name'] == most_ordered_item]['quantity'].sum()\n",
    "print(f\"Total number of '{most_ordered_item}' items ordered: {most_ordered_item_count}\")"
   ]
  },
  {
   "cell_type": "code",
   "execution_count": 208,
   "id": "e11d29a5-8a60-4fee-93fc-8b35488e077e",
   "metadata": {},
   "outputs": [
    {
     "name": "stdout",
     "output_type": "stream",
     "text": [
      "Most ordered item in choice_description column: [Diet Coke]\n"
     ]
    }
   ],
   "source": [
    "# Step 11: What was the most ordered item in the choice_description column?\n",
    "most_ordered_choice_description = chipo['choice_description'].value_counts().idxmax()\n",
    "print(f\"Most ordered item in choice_description column: {most_ordered_choice_description}\")"
   ]
  },
  {
   "cell_type": "code",
   "execution_count": 209,
   "id": "aa6a5695-a810-4f77-b429-b0fc622eb6ac",
   "metadata": {},
   "outputs": [
    {
     "name": "stdout",
     "output_type": "stream",
     "text": [
      "Total number of items ordered: 4972\n"
     ]
    }
   ],
   "source": [
    "# Step 12: How many items were ordered in total?\n",
    "total_items_ordered = chipo['quantity'].sum()\n",
    "print(f\"Total number of items ordered: {total_items_ordered}\")\n"
   ]
  },
  {
   "cell_type": "code",
   "execution_count": 210,
   "id": "ddeb3e39-3635-4433-a945-0bf1d27552b2",
   "metadata": {},
   "outputs": [],
   "source": [
    "# Step 13:\n",
    "# Turn the item price into a float\n",
    "chipo['item_price'] = chipo['item_price'].replace('[\\$,]', '', regex=True).astype(float)"
   ]
  },
  {
   "cell_type": "code",
   "execution_count": 211,
   "id": "3dd7b877-d587-4f0c-8bd1-270897500c54",
   "metadata": {},
   "outputs": [
    {
     "name": "stdout",
     "output_type": "stream",
     "text": [
      "Item price type: float64\n"
     ]
    }
   ],
   "source": [
    "# Check the item price type\n",
    "print(f\"Item price type: {chipo['item_price'].dtype}\")"
   ]
  },
  {
   "cell_type": "code",
   "execution_count": 212,
   "id": "472e7dc4-9708-481d-9c61-11e90915e218",
   "metadata": {},
   "outputs": [],
   "source": [
    "# Create a lambda function and change the type of item price\n",
    "chipo['item_price'] = chipo['item_price'].apply(lambda x: float(x))"
   ]
  },
  {
   "cell_type": "code",
   "execution_count": 213,
   "id": "8d8de055-58c7-4111-8f3e-b6f56e84771b",
   "metadata": {},
   "outputs": [
    {
     "name": "stdout",
     "output_type": "stream",
     "text": [
      "Item price type after lambda function: float64\n"
     ]
    }
   ],
   "source": [
    "# Check the item price type again\n",
    "print(f\"Item price type after lambda function: {chipo['item_price'].dtype}\")"
   ]
  },
  {
   "cell_type": "code",
   "execution_count": 214,
   "id": "b81621ea-7b5c-4517-81b5-283186278d1a",
   "metadata": {},
   "outputs": [
    {
     "name": "stdout",
     "output_type": "stream",
     "text": [
      "Total revenue: $39237.02\n"
     ]
    }
   ],
   "source": [
    "# Step 14: How much was the revenue for the period in the dataset?\n",
    "revenue = (chipo['item_price'] * chipo['quantity']).sum()\n",
    "print(f\"Total revenue: ${revenue:.2f}\")"
   ]
  },
  {
   "cell_type": "code",
   "execution_count": 215,
   "id": "e10c11c9-b8ca-4453-9b0e-6f0fd40847a0",
   "metadata": {},
   "outputs": [
    {
     "name": "stdout",
     "output_type": "stream",
     "text": [
      "Total number of orders: 1834\n"
     ]
    }
   ],
   "source": [
    "# Step 15: How many orders were made in the period?\n",
    "num_orders = chipo['order_id'].nunique()\n",
    "print(f\"Total number of orders: {num_orders}\")"
   ]
  },
  {
   "cell_type": "code",
   "execution_count": 216,
   "id": "3fb74157-e5a3-45ce-b24c-b86f2a783e94",
   "metadata": {},
   "outputs": [
    {
     "name": "stdout",
     "output_type": "stream",
     "text": [
      "Average revenue amount per order: $21.39\n"
     ]
    }
   ],
   "source": [
    "# Step 16: What is the average revenue amount per order?\n",
    "average_revenue_per_order = revenue / num_orders\n",
    "print(f\"Average revenue amount per order: ${average_revenue_per_order:.2f}\")"
   ]
  },
  {
   "cell_type": "code",
   "execution_count": 217,
   "id": "5555edeb-3be0-488d-976f-4c326659df23",
   "metadata": {},
   "outputs": [
    {
     "name": "stdout",
     "output_type": "stream",
     "text": [
      "Number of different items sold: 50\n"
     ]
    }
   ],
   "source": [
    "# Step 17: How many different items are sold?\n",
    "num_different_items_sold = chipo['item_name'].nunique()\n",
    "print(f\"Number of different items sold: {num_different_items_sold}\")"
   ]
  },
  {
   "cell_type": "markdown",
   "id": "ce2d7d21-0c28-4560-9b1b-7ce3637c7e1c",
   "metadata": {},
   "source": [
    "#### QUESTION 6 ######"
   ]
  },
  {
   "cell_type": "code",
   "execution_count": 219,
   "id": "204519f0-7c69-40b5-8155-afb57eae9010",
   "metadata": {},
   "outputs": [
    {
     "name": "stdout",
     "output_type": "stream",
     "text": [
      "   Year  Marriages  Divorces  Population  Marriages_per_1000  \\\n",
      "0  1867   357000.0   10000.0    36970000                 9.7   \n",
      "1  1868   345000.0   10000.0    37885000                 9.1   \n",
      "2  1869   348000.0   11000.0    38870000                 9.0   \n",
      "3  1870   352000.0   11000.0    39905000                 8.8   \n",
      "4  1871   359000.0   12000.0    41010000                 8.8   \n",
      "\n",
      "   Divorces_per_1000  \n",
      "0                0.3  \n",
      "1                0.3  \n",
      "2                0.3  \n",
      "3                0.3  \n",
      "4                0.3  \n"
     ]
    },
    {
     "data": {
      "image/png": "[encoded data removed]",
      "text/plain": [
       "<Figure size 1200x600 with 1 Axes>"
      ]
     },
     "metadata": {},
     "output_type": "display_data"
    }
   ],
   "source": [
    "import pandas as pd\n",
    "import matplotlib.pyplot as plt\n",
    "\n",
    "# Reading the CSV file from the specified path\n",
    "file_path = r'C:\\Users\\HP\\Downloads\\us-marriages-divorces-1867-2014.csv'\n",
    "data = pd.read_csv(file_path)\n",
    "\n",
    "# Checking the first few rows to ensure the data is read correctly\n",
    "print(data.head())\n",
    "\n",
    "# Assigning the values to the variables\n",
    "years = data['Year']\n",
    "marriages = data['Marriages_per_1000']\n",
    "divorces = data['Divorces_per_1000']\n",
    "\n",
    "# Plotting in the graph\n",
    "plt.figure(figsize=(12, 6))  # Optional: Set figure size for better readability\n",
    "plt.plot(years, marriages, label='Marriages per capita', color='blue')\n",
    "plt.plot(years, divorces, label='Divorces per capita', color='red')\n",
    "\n",
    "# Labeling\n",
    "plt.xlabel('Year')\n",
    "plt.ylabel('Number per capita')\n",
    "\n",
    "# Giving Title\n",
    "plt.title('Marriages and Divorces per Capita in the US (1867-2014)')\n",
    "\n",
    "# Showing the legends on the visual\n",
    "plt.legend()\n",
    "plt.grid(True)  # Optional: Add grid for better readability\n",
    "plt.tight_layout()  # Optional: Adjust layout to fit labels\n",
    "plt.show()\n"
   ]
  },
  {
   "cell_type": "markdown",
   "id": "2875e306-ae63-4a6b-bcdf-d8b07503eaf4",
   "metadata": {},
   "source": [
    "#### QUESTION 7 #####"
   ]
  },
  {
   "cell_type": "code",
   "execution_count": 221,
   "id": "b15f8d2d-b629-4b07-bbda-6f24c815ed49",
   "metadata": {},
   "outputs": [
    {
     "data": {
      "image/png": "[encoded data removed]",
      "text/plain": [
       "<Figure size 1000x600 with 1 Axes>"
      ]
     },
     "metadata": {},
     "output_type": "display_data"
    }
   ],
   "source": [
    "# Importing the necessary libraries\n",
    "import pandas as pd\n",
    "import matplotlib.pyplot as plt\n",
    "\n",
    "# Reading the file with the correct path\n",
    "data = pd.read_csv(r'C:\\Users\\HP\\Downloads\\us-marriages-divorces-1867-2014.csv')\n",
    "\n",
    "# Filtering data for the years 1900, 1950, 2000\n",
    "relevant_data = data[data['Year'].isin([1900, 1950, 2000])]\n",
    "\n",
    "# Extracting values for plotting\n",
    "years = relevant_data['Year']\n",
    "marriages = relevant_data['Marriages_per_1000']\n",
    "divorces = relevant_data['Divorces_per_1000']\n",
    "\n",
    "# Plotting the data\n",
    "fig, ax = plt.subplots(figsize=(10, 6))\n",
    "\n",
    "# Plotting marriages and divorces side by side\n",
    "bar_width = 0.35\n",
    "index = range(len(years))\n",
    "bar1 = plt.bar(index, marriages, bar_width, label='Marriages per capita')\n",
    "bar2 = plt.bar([i + bar_width for i in index], divorces, bar_width, label='Divorces per capita')\n",
    "\n",
    "# Adding labels, title, and legend\n",
    "plt.xlabel('Year')\n",
    "plt.ylabel('Number per capita')\n",
    "plt.title('Marriages and Divorces per Capita in the US (1900, 1950, 2000)')\n",
    "plt.xticks([i + bar_width / 2 for i in index], years)\n",
    "plt.legend()\n",
    "\n",
    "# Showing the plot\n",
    "plt.show()\n"
   ]
  },
  {
   "cell_type": "markdown",
   "id": "25f47bc2-91cf-4e53-bc65-af93c52ebbcd",
   "metadata": {},
   "source": [
    "#### QUESTION 8 ####"
   ]
  },
  {
   "cell_type": "code",
   "execution_count": 223,
   "id": "c63ba13b-11ab-4188-b702-8b294c19b1dc",
   "metadata": {},
   "outputs": [
    {
     "data": {
      "image/png": "[encoded data removed]",
      "text/plain": [
       "<Figure size 640x480 with 1 Axes>"
      ]
     },
     "metadata": {},
     "output_type": "display_data"
    }
   ],
   "source": [
    "# Importing the necessary libraries\n",
    "import pandas as pd\n",
    "import matplotlib.pyplot as plt\n",
    "\n",
    "# Reading the file with the correct path\n",
    "data = pd.read_csv(r'C:\\Users\\HP\\Downloads\\actor_kill_counts.csv')\n",
    "\n",
    "# Sorting data by 'Count' in ascending order\n",
    "sorted_data = data.sort_values('Count', ascending=True)\n",
    "\n",
    "# Extracting variables\n",
    "actors = sorted_data['Actor']\n",
    "kill_counts = sorted_data['Count']\n",
    "\n",
    "# Plotting the horizontal bar chart\n",
    "plt.barh(actors, kill_counts)\n",
    "\n",
    "# Labeling\n",
    "plt.xlabel('Kill Count')\n",
    "plt.ylabel('Actor Name')\n",
    "\n",
    "# Giving Title\n",
    "plt.title('Deadliest Actors in Hollywood')\n",
    "\n",
    "# Showing the plot\n",
    "plt.show()\n"
   ]
  },
  {
   "cell_type": "markdown",
   "id": "36f2ed62-16f5-4cef-a9e5-f98f7c09bbca",
   "metadata": {},
   "source": [
    "#### QUESTION 9 #####"
   ]
  },
  {
   "cell_type": "code",
   "execution_count": 225,
   "id": "13ef2ad0-26b2-4199-8761-1e3c191a576f",
   "metadata": {},
   "outputs": [
    {
     "data": {
      "image/png": "[encoded data removed]",
      "text/plain": [
       "<Figure size 800x800 with 1 Axes>"
      ]
     },
     "metadata": {},
     "output_type": "display_data"
    }
   ],
   "source": [
    "import pandas as pd\n",
    "import matplotlib.pyplot as plt\n",
    "\n",
    "# Reading the file\n",
    "data = pd.read_csv('C:\\\\Users\\\\HP\\\\Downloads\\\\roman-emperor-reigns.csv')\n",
    "\n",
    "# Calculating the number of emperors assassinated and the total number\n",
    "num_assassinated = data['Cause_of_Death'].str.contains('Assassinated').sum()\n",
    "total_emperors = len(data)\n",
    "\n",
    "# Finding the fraction of assassinated and non-assassinated\n",
    "fraction_assassinated = num_assassinated / total_emperors\n",
    "fraction_not_assassinated = 1 - fraction_assassinated\n",
    "\n",
    "# Labeling\n",
    "labels = ['Assassinated', 'Not Assassinated']\n",
    "sizes = [fraction_assassinated, fraction_not_assassinated]\n",
    "explode = (0.1, 0)  # explode the 'Assassinated' slice for emphasis\n",
    "\n",
    "# Plotting the pie chart\n",
    "plt.figure(figsize=(8, 8))  # Optional: adjust the figure size\n",
    "plt.pie(sizes, explode=explode, labels=labels, autopct='%1.1f%%', startangle=90, colors=['#ff9999','#66b3ff'])\n",
    "plt.axis('equal')  # Equal aspect ratio ensures that pie is drawn as a circle.\n",
    "\n",
    "# Giving Title\n",
    "plt.title('Fraction of Roman Emperors Assassinated')\n",
    "plt.show()\n"
   ]
  },
  {
   "cell_type": "markdown",
   "id": "13e7d0f8-38bd-42c9-8fa7-f7a7f92d5a46",
   "metadata": {},
   "source": [
    "#### QUESTION 10 #####"
   ]
  },
  {
   "cell_type": "code",
   "execution_count": 227,
   "id": "63a07de2-d5c3-4989-b585-8e105a71b5ab",
   "metadata": {},
   "outputs": [
    {
     "data": {
      "image/png": "[encoded data removed]",
      "text/plain": [
       "<Figure size 640x480 with 2 Axes>"
      ]
     },
     "metadata": {},
     "output_type": "display_data"
    }
   ],
   "source": [
    "import pandas as pd\n",
    "import matplotlib.pyplot as plt\n",
    "\n",
    "# Reading the file\n",
    "data = pd.read_csv('C:\\\\Users\\\\HP\\\\Downloads\\\\arcade-revenue-vs-cs-doctorates.csv')\n",
    "\n",
    "# Assigning the values to the variables\n",
    "revenue = data['Total Arcade Revenue (billions)']\n",
    "phds = data['Computer Science Doctorates Awarded (US)']\n",
    "years = data['Year']\n",
    "\n",
    "# Create the scatter plot\n",
    "fig, ax = plt.subplots()\n",
    "scatter = ax.scatter(phds, revenue, c=years, cmap='coolwarm', s=100, edgecolor='k')\n",
    "\n",
    "# Labeling\n",
    "ax.set_xlabel('Number of Computer Science PhDs Awarded')\n",
    "ax.set_ylabel('Total Arcade Revenue (In Billions)')\n",
    "ax.set_title('Relationship between Total Arcade Revenue and Computer Science PhDs Awarded in the U.S. between 2000 and 2009')\n",
    "\n",
    "# Add colorbar and legend\n",
    "cbar = plt.colorbar(scatter, ax=ax, label='Year')\n",
    "cbar.set_ticks(range(int(years.min()), int(years.max())+1, 1))\n",
    "\n",
    "plt.show()\n"
   ]
  },
  {
   "cell_type": "code",
   "execution_count": null,
   "id": "23f2f310-69be-4d21-bab0-91abeb3b018f",
   "metadata": {},
   "outputs": [],
   "source": []
  }
 ],
 "metadata": {
  "kernelspec": {
   "display_name": "Python 3 (ipykernel)",
   "language": "python",
   "name": "python3"
  },
  "language_info": {
   "codemirror_mode": {
    "name": "ipython",
    "version": 3
   },
   "file_extension": ".py",
   "mimetype": "text/x-python",
   "name": "python",
   "nbconvert_exporter": "python",
   "pygments_lexer": "ipython3",
   "version": "3.11.7"
  }
 },
 "nbformat": 4,
 "nbformat_minor": 5
}
